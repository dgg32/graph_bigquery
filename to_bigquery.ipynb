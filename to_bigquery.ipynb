{
 "cells": [
  {
   "cell_type": "code",
   "execution_count": 2,
   "metadata": {},
   "outputs": [],
   "source": [
    "\n",
    "import yaml\n",
    "import json\n",
    "import os\n",
    "from pathlib import Path\n",
    "from neo4j import GraphDatabase\n",
    "\n",
    "\n"
   ]
  },
  {
   "cell_type": "code",
   "execution_count": 3,
   "metadata": {},
   "outputs": [],
   "source": [
    "with open(\"config.yaml\", \"r\") as stream:\n",
    "    try:\n",
    "        PARAM = yaml.safe_load(stream)\n",
    "    except yaml.YAMLError as exc:\n",
    "        print(exc)"
   ]
  },
  {
   "cell_type": "code",
   "execution_count": 3,
   "metadata": {},
   "outputs": [],
   "source": [
    "\n",
    "driver = GraphDatabase.driver(PARAM[\"neo4j_url\"], auth=(PARAM[\"neo4j_username\"], PARAM[\"neo4j_password\"]))\n",
    "\n",
    "records, summary, keys = driver.execute_query(f\"\"\"\n",
    "    CALL apoc.meta.schema()\n",
    "    YIELD value RETURN value;\n",
    "    \"\"\",\n",
    "    database_=\"neo4j\",\n",
    ")\n",
    "# Loop through results and do something with them\n",
    "for record in records:\n",
    "    schema = record.data()[\"value\"]\n",
    "    json_schema = json.dumps(record.data()[\"value\"])\n",
    "    #print (json_schema)\n"
   ]
  },
  {
   "cell_type": "code",
   "execution_count": 4,
   "metadata": {},
   "outputs": [
    {
     "data": {
      "text/plain": [
       "dict_keys(['Condition', 'HAS_MORPHOLOGY', 'Category', 'Site', 'Trial', 'IS_CARRIED_OUT_BY', 'Morphology', 'FOCUSES_ON', 'IS_FOUND_AT_SITE', 'Institution', 'BELONGS_TO'])"
      ]
     },
     "execution_count": 4,
     "metadata": {},
     "output_type": "execute_result"
    }
   ],
   "source": [
    "schema.keys()"
   ]
  },
  {
   "cell_type": "code",
   "execution_count": 7,
   "metadata": {},
   "outputs": [
    {
     "data": {
      "text/plain": [
       "{'Condition': {'count': 23,\n",
       "  'labels': [],\n",
       "  'properties': {'SNOMEDCT': {'unique': True,\n",
       "    'indexed': True,\n",
       "    'type': 'STRING',\n",
       "    'existence': False},\n",
       "   'name': {'unique': False,\n",
       "    'indexed': False,\n",
       "    'type': 'STRING',\n",
       "    'existence': False},\n",
       "   'UMLS': {'unique': False,\n",
       "    'indexed': False,\n",
       "    'type': 'STRING',\n",
       "    'existence': False}},\n",
       "  'type': 'node',\n",
       "  'relationships': {'HAS_MORPHOLOGY': {'count': 0,\n",
       "    'direction': 'out',\n",
       "    'labels': ['Morphology'],\n",
       "    'properties': {}},\n",
       "   'FOCUSES_ON': {'count': 100,\n",
       "    'direction': 'in',\n",
       "    'labels': ['Trial'],\n",
       "    'properties': {}},\n",
       "   'IS_FOUND_AT_SITE': {'count': 0,\n",
       "    'direction': 'out',\n",
       "    'labels': ['Site'],\n",
       "    'properties': {}},\n",
       "   'BELONGS_TO': {'count': 0,\n",
       "    'direction': 'out',\n",
       "    'labels': ['Category'],\n",
       "    'properties': {}}}},\n",
       " 'HAS_MORPHOLOGY': {'count': 14, 'properties': {}, 'type': 'relationship'},\n",
       " 'Category': {'count': 27,\n",
       "  'labels': [],\n",
       "  'properties': {'fsn': {'unique': False,\n",
       "    'indexed': False,\n",
       "    'type': 'STRING',\n",
       "    'existence': False},\n",
       "   'SNOMEDCT': {'unique': True,\n",
       "    'indexed': True,\n",
       "    'type': 'STRING',\n",
       "    'existence': False},\n",
       "   'name': {'unique': False,\n",
       "    'indexed': False,\n",
       "    'type': 'STRING',\n",
       "    'existence': False}},\n",
       "  'type': 'node',\n",
       "  'relationships': {'BELONGS_TO': {'count': 53,\n",
       "    'direction': 'in',\n",
       "    'labels': ['Condition'],\n",
       "    'properties': {}}}},\n",
       " 'Site': {'count': 2,\n",
       "  'labels': [],\n",
       "  'properties': {'fsn': {'unique': False,\n",
       "    'indexed': False,\n",
       "    'type': 'STRING',\n",
       "    'existence': False},\n",
       "   'SNOMEDCT': {'unique': True,\n",
       "    'indexed': True,\n",
       "    'type': 'STRING',\n",
       "    'existence': False},\n",
       "   'name': {'unique': False,\n",
       "    'indexed': False,\n",
       "    'type': 'STRING',\n",
       "    'existence': False}},\n",
       "  'type': 'node',\n",
       "  'relationships': {'IS_FOUND_AT_SITE': {'count': 12,\n",
       "    'direction': 'in',\n",
       "    'labels': ['Condition'],\n",
       "    'properties': {}}}},\n",
       " 'Trial': {'count': 73,\n",
       "  'labels': [],\n",
       "  'properties': {'min_age': {'unique': False,\n",
       "    'indexed': False,\n",
       "    'type': 'STRING',\n",
       "    'existence': False},\n",
       "   'healthy_volunteers': {'unique': False,\n",
       "    'indexed': False,\n",
       "    'type': 'STRING',\n",
       "    'existence': False},\n",
       "   'study_results': {'unique': False,\n",
       "    'indexed': False,\n",
       "    'type': 'STRING',\n",
       "    'existence': False},\n",
       "   'outcome_measures': {'unique': False,\n",
       "    'indexed': False,\n",
       "    'type': 'LIST',\n",
       "    'existence': False},\n",
       "   'criteria': {'unique': False,\n",
       "    'indexed': False,\n",
       "    'type': 'STRING',\n",
       "    'existence': False},\n",
       "   'status': {'unique': False,\n",
       "    'indexed': False,\n",
       "    'type': 'STRING',\n",
       "    'existence': False},\n",
       "   'max_age': {'unique': False,\n",
       "    'indexed': False,\n",
       "    'type': 'STRING',\n",
       "    'existence': False},\n",
       "   'study_type': {'unique': False,\n",
       "    'indexed': False,\n",
       "    'type': 'STRING',\n",
       "    'existence': False},\n",
       "   'url': {'unique': False,\n",
       "    'indexed': False,\n",
       "    'type': 'STRING',\n",
       "    'existence': False},\n",
       "   'title': {'unique': False,\n",
       "    'indexed': False,\n",
       "    'type': 'STRING',\n",
       "    'existence': False},\n",
       "   'locations': {'unique': False,\n",
       "    'indexed': False,\n",
       "    'type': 'LIST',\n",
       "    'existence': False},\n",
       "   'description': {'unique': False,\n",
       "    'indexed': False,\n",
       "    'type': 'STRING',\n",
       "    'existence': False},\n",
       "   'name': {'unique': True,\n",
       "    'indexed': True,\n",
       "    'type': 'STRING',\n",
       "    'existence': False},\n",
       "   'phases': {'unique': False,\n",
       "    'indexed': False,\n",
       "    'type': 'LIST',\n",
       "    'existence': False},\n",
       "   'gender': {'unique': False,\n",
       "    'indexed': False,\n",
       "    'type': 'STRING',\n",
       "    'existence': False},\n",
       "   'enrollment': {'unique': False,\n",
       "    'indexed': False,\n",
       "    'type': 'STRING',\n",
       "    'existence': False},\n",
       "   'start_date': {'unique': False,\n",
       "    'indexed': False,\n",
       "    'type': 'STRING',\n",
       "    'existence': False},\n",
       "   'sampling_method': {'unique': False,\n",
       "    'indexed': False,\n",
       "    'type': 'STRING',\n",
       "    'existence': False}},\n",
       "  'type': 'node',\n",
       "  'relationships': {'IS_CARRIED_OUT_BY': {'count': 0,\n",
       "    'direction': 'out',\n",
       "    'labels': ['Institution'],\n",
       "    'properties': {}},\n",
       "   'FOCUSES_ON': {'count': 0,\n",
       "    'direction': 'out',\n",
       "    'labels': ['Condition'],\n",
       "    'properties': {}}}},\n",
       " 'IS_CARRIED_OUT_BY': {'count': 120, 'properties': {}, 'type': 'relationship'},\n",
       " 'Morphology': {'count': 12,\n",
       "  'labels': [],\n",
       "  'properties': {'fsn': {'unique': False,\n",
       "    'indexed': False,\n",
       "    'type': 'STRING',\n",
       "    'existence': False},\n",
       "   'SNOMEDCT': {'unique': True,\n",
       "    'indexed': True,\n",
       "    'type': 'STRING',\n",
       "    'existence': False},\n",
       "   'name': {'unique': False,\n",
       "    'indexed': False,\n",
       "    'type': 'STRING',\n",
       "    'existence': False}},\n",
       "  'type': 'node',\n",
       "  'relationships': {'HAS_MORPHOLOGY': {'count': 14,\n",
       "    'direction': 'in',\n",
       "    'labels': ['Condition'],\n",
       "    'properties': {}}}},\n",
       " 'FOCUSES_ON': {'count': 100, 'properties': {}, 'type': 'relationship'},\n",
       " 'IS_FOUND_AT_SITE': {'count': 12, 'properties': {}, 'type': 'relationship'},\n",
       " 'Institution': {'count': 97,\n",
       "  'labels': [],\n",
       "  'properties': {'name': {'unique': True,\n",
       "    'indexed': True,\n",
       "    'type': 'STRING',\n",
       "    'existence': False},\n",
       "   'type': {'unique': False,\n",
       "    'indexed': False,\n",
       "    'type': 'STRING',\n",
       "    'existence': False}},\n",
       "  'type': 'node',\n",
       "  'relationships': {'IS_CARRIED_OUT_BY': {'count': 120,\n",
       "    'direction': 'in',\n",
       "    'labels': ['Trial'],\n",
       "    'properties': {}}}},\n",
       " 'BELONGS_TO': {'count': 53, 'properties': {}, 'type': 'relationship'}}"
      ]
     },
     "execution_count": 7,
     "metadata": {},
     "output_type": "execute_result"
    }
   ],
   "source": [
    "schema"
   ]
  },
  {
   "cell_type": "code",
   "execution_count": 5,
   "metadata": {},
   "outputs": [
    {
     "data": {
      "text/plain": [
       "'node'"
      ]
     },
     "execution_count": 5,
     "metadata": {},
     "output_type": "execute_result"
    }
   ],
   "source": [
    "schema['Condition']['type']"
   ]
  },
  {
   "cell_type": "code",
   "execution_count": 6,
   "metadata": {},
   "outputs": [
    {
     "data": {
      "text/plain": [
       "{'count': 23,\n",
       " 'labels': [],\n",
       " 'properties': {'SNOMEDCT': {'unique': True,\n",
       "   'indexed': True,\n",
       "   'type': 'STRING',\n",
       "   'existence': False},\n",
       "  'name': {'unique': False,\n",
       "   'indexed': False,\n",
       "   'type': 'STRING',\n",
       "   'existence': False},\n",
       "  'UMLS': {'unique': False,\n",
       "   'indexed': False,\n",
       "   'type': 'STRING',\n",
       "   'existence': False}},\n",
       " 'type': 'node',\n",
       " 'relationships': {'HAS_MORPHOLOGY': {'count': 0,\n",
       "   'direction': 'out',\n",
       "   'labels': ['Morphology'],\n",
       "   'properties': {}},\n",
       "  'FOCUSES_ON': {'count': 100,\n",
       "   'direction': 'in',\n",
       "   'labels': ['Trial'],\n",
       "   'properties': {}},\n",
       "  'IS_FOUND_AT_SITE': {'count': 0,\n",
       "   'direction': 'out',\n",
       "   'labels': ['Site'],\n",
       "   'properties': {}},\n",
       "  'BELONGS_TO': {'count': 0,\n",
       "   'direction': 'out',\n",
       "   'labels': ['Category'],\n",
       "   'properties': {}}}}"
      ]
     },
     "execution_count": 6,
     "metadata": {},
     "output_type": "execute_result"
    }
   ],
   "source": [
    "schema['Condition']"
   ]
  },
  {
   "cell_type": "code",
   "execution_count": 15,
   "metadata": {},
   "outputs": [],
   "source": [
    "#Condition: {SNOMEDCT: STRING}\n",
    "schema_dict = {}\n",
    "node_index = {}\n",
    "\n",
    "relation_A_B = {}\n",
    "\n",
    "for key in schema.keys():\n",
    "    if schema[key]['type'] == 'node':\n",
    "        schema_dict[key] = {}\n",
    "\n",
    "        for p in schema[key]['properties'].keys():\n",
    "            schema_dict[key][p] = schema[key]['properties'][p]['type']\n",
    "\n",
    "            if schema[key]['properties'][p]['unique'] == True:\n",
    "                node_index[key] = p\n",
    "        \n",
    "\n",
    "        for r in schema[key]['relationships'].keys():\n",
    "            if schema[key]['relationships'][r][\"direction\"] == \"out\":\n",
    "                relation_A_B[r] = (key, schema[key]['relationships'][r][\"labels\"][0])"
   ]
  },
  {
   "cell_type": "code",
   "execution_count": 28,
   "metadata": {},
   "outputs": [
    {
     "data": {
      "text/plain": [
       "{'Condition': {'SNOMEDCT': 'STRING', 'name': 'STRING', 'UMLS': 'STRING'},\n",
       " 'Category': {'fsn': 'STRING', 'SNOMEDCT': 'STRING', 'name': 'STRING'},\n",
       " 'Site': {'fsn': 'STRING', 'SNOMEDCT': 'STRING', 'name': 'STRING'},\n",
       " 'Trial': {'min_age': 'STRING',\n",
       "  'healthy_volunteers': 'STRING',\n",
       "  'study_results': 'STRING',\n",
       "  'outcome_measures': 'LIST',\n",
       "  'criteria': 'STRING',\n",
       "  'status': 'STRING',\n",
       "  'max_age': 'STRING',\n",
       "  'study_type': 'STRING',\n",
       "  'url': 'STRING',\n",
       "  'title': 'STRING',\n",
       "  'locations': 'LIST',\n",
       "  'description': 'STRING',\n",
       "  'name': 'STRING',\n",
       "  'phases': 'LIST',\n",
       "  'gender': 'STRING',\n",
       "  'enrollment': 'STRING',\n",
       "  'start_date': 'STRING',\n",
       "  'sampling_method': 'STRING'},\n",
       " 'Morphology': {'fsn': 'STRING', 'SNOMEDCT': 'STRING', 'name': 'STRING'},\n",
       " 'Institution': {'name': 'STRING', 'type': 'STRING'}}"
      ]
     },
     "execution_count": 28,
     "metadata": {},
     "output_type": "execute_result"
    }
   ],
   "source": [
    "schema_dict"
   ]
  },
  {
   "cell_type": "code",
   "execution_count": 13,
   "metadata": {},
   "outputs": [
    {
     "data": {
      "text/plain": [
       "{'Condition': 'SNOMEDCT',\n",
       " 'Category': 'SNOMEDCT',\n",
       " 'Site': 'SNOMEDCT',\n",
       " 'Trial': 'name',\n",
       " 'Morphology': 'SNOMEDCT',\n",
       " 'Institution': 'name'}"
      ]
     },
     "execution_count": 13,
     "metadata": {},
     "output_type": "execute_result"
    }
   ],
   "source": [
    "node_index"
   ]
  },
  {
   "cell_type": "code",
   "execution_count": 16,
   "metadata": {},
   "outputs": [
    {
     "data": {
      "text/plain": [
       "{'HAS_MORPHOLOGY': ('Condition', 'Morphology'),\n",
       " 'IS_FOUND_AT_SITE': ('Condition', 'Site'),\n",
       " 'BELONGS_TO': ('Condition', 'Category'),\n",
       " 'IS_CARRIED_OUT_BY': ('Trial', 'Institution'),\n",
       " 'FOCUSES_ON': ('Trial', 'Condition')}"
      ]
     },
     "execution_count": 16,
     "metadata": {},
     "output_type": "execute_result"
    }
   ],
   "source": [
    "relation_A_B"
   ]
  },
  {
   "cell_type": "code",
   "execution_count": 29,
   "metadata": {},
   "outputs": [
    {
     "data": {
      "text/plain": [
       "{'SNOMEDCT': {'unique': True,\n",
       "  'indexed': True,\n",
       "  'type': 'STRING',\n",
       "  'existence': False},\n",
       " 'name': {'unique': False,\n",
       "  'indexed': False,\n",
       "  'type': 'STRING',\n",
       "  'existence': False},\n",
       " 'UMLS': {'unique': False,\n",
       "  'indexed': False,\n",
       "  'type': 'STRING',\n",
       "  'existence': False}}"
      ]
     },
     "execution_count": 29,
     "metadata": {},
     "output_type": "execute_result"
    }
   ],
   "source": [
    "schema['Condition']['properties']"
   ]
  },
  {
   "cell_type": "code",
   "execution_count": 30,
   "metadata": {},
   "outputs": [
    {
     "name": "stdout",
     "output_type": "stream",
     "text": [
      "Condition\n",
      "Category\n",
      "Site\n",
      "Trial\n",
      "Morphology\n",
      "Institution\n"
     ]
    }
   ],
   "source": [
    "for label in schema.keys():\n",
    "    if schema[label]['type'] == 'node':\n",
    "        print (label)"
   ]
  },
  {
   "cell_type": "code",
   "execution_count": 31,
   "metadata": {},
   "outputs": [],
   "source": [
    "# variable_name = \"t\"\n",
    "# output_directory = \"tsv\"\n",
    "\n",
    "# for node_type in schema.keys():\n",
    "#     if schema[node_type]['type'] == 'node':\n",
    "\n",
    "#         records, summary, keys = driver.execute_query(f\"\"\"\n",
    "#             MATCH ({variable_name}:{node_type})\n",
    "#             RETURN {variable_name}\n",
    "#             \"\"\",\n",
    "#             database_=\"neo4j\",\n",
    "#         )\n",
    "        \n",
    "#         header = list(schema[node_type]['properties'].keys())\n",
    "#         content = \"\\t\".join(header) + \"\\n\"\n",
    "#         for record in records:\n",
    "#             result = record.data()[f\"{variable_name}\"]\n",
    "            \n",
    "#             for h in header:\n",
    "#                 if h in result:\n",
    "#                     content += str(result[h]) + \"\\t\"\n",
    "#                 else:\n",
    "#                     content += \"\\t\"\n",
    "#             content = content[:-1] + \"\\n\"\n",
    "\n",
    "#         with open(os.path.join(output_directory, f\"{node_type}.tsv\"), 'w') as f:\n",
    "#             f.write(content)\n"
   ]
  },
  {
   "cell_type": "code",
   "execution_count": 9,
   "metadata": {},
   "outputs": [
    {
     "name": "stdout",
     "output_type": "stream",
     "text": [
      "HAS_MORPHOLOGY {'count': 14, 'properties': {}, 'type': 'relationship'}\n",
      "IS_CARRIED_OUT_BY {'count': 120, 'properties': {}, 'type': 'relationship'}\n",
      "FOCUSES_ON {'count': 100, 'properties': {}, 'type': 'relationship'}\n",
      "IS_FOUND_AT_SITE {'count': 12, 'properties': {}, 'type': 'relationship'}\n",
      "BELONGS_TO {'count': 53, 'properties': {}, 'type': 'relationship'}\n"
     ]
    }
   ],
   "source": [
    "for node_type in schema.keys():\n",
    "    if schema[node_type]['type'] == 'relationship':\n",
    "        print (node_type, schema[node_type])"
   ]
  },
  {
   "cell_type": "code",
   "execution_count": 18,
   "metadata": {},
   "outputs": [],
   "source": [
    "variable_name = \"t\"\n",
    "output_directory = \"json\"\n",
    "\n",
    "for relation_type in relation_A_B.keys():\n",
    "    A = relation_A_B[relation_type][0]\n",
    "    B = relation_A_B[relation_type][1]\n",
    "    \n",
    "    A_index = node_index[A]\n",
    "    B_index = node_index[B]\n",
    "\n",
    "\n",
    "    records, summary, keys = driver.execute_query(f\"\"\"\n",
    "            MATCH (A_:{A}) -[r:{relation_type}]-> (B_:{B})\n",
    "            RETURN A_.{A_index}, B_.{B_index}\n",
    "            \"\"\",\n",
    "            database_=\"neo4j\",\n",
    "        )\n",
    "\n",
    "    content = \"\"\n",
    "        #header = list(schema[node_type]['properties'].keys())\n",
    "        #content = \"\\t\".join(header) + \"\\n\"\n",
    "    for record in records:\n",
    "            \n",
    "        from_ = record.data()[f\"A_.{A_index}\"]\n",
    "        to_ = record.data()[f\"B_.{B_index}\"]\n",
    "\n",
    "        content += json.dumps({\"from\": from_, \"to\": to_}) + \"\\n\"\n",
    "    \n",
    "    with open(os.path.join(output_directory, f\"{relation_type}.json\"), 'w') as f:\n",
    "            f.write(content)"
   ]
  },
  {
   "cell_type": "code",
   "execution_count": null,
   "metadata": {},
   "outputs": [],
   "source": [
    "output_directory = \"json\"\n",
    "\n",
    "for node_type in schema.keys():\n",
    "    if schema[node_type]['type'] == 'node':\n",
    "\n",
    "        records, summary, keys = driver.execute_query(f\"\"\"\n",
    "            MATCH ({variable_name}:{node_type})\n",
    "            RETURN {variable_name}\n",
    "            \"\"\",\n",
    "            database_=\"neo4j\",\n",
    "        )\n",
    "        \n",
    "        content = \"\"\n",
    "        #header = list(schema[node_type]['properties'].keys())\n",
    "        #content = \"\\t\".join(header) + \"\\n\"\n",
    "        for record in records:\n",
    "            \n",
    "            content += json.dumps(record.data()[variable_name]) + \"\\n\"\n",
    "\n",
    "        with open(os.path.join(output_directory, f\"{node_type}.json\"), 'w') as f:\n",
    "            f.write(content)"
   ]
  },
  {
   "cell_type": "code",
   "execution_count": 5,
   "metadata": {},
   "outputs": [],
   "source": [
    "from google.cloud import bigquery"
   ]
  },
  {
   "cell_type": "code",
   "execution_count": 9,
   "metadata": {},
   "outputs": [
    {
     "data": {
      "text/plain": [
       "Dataset(DatasetReference('vertex-ai-399007', 'neo4j'))"
      ]
     },
     "execution_count": 9,
     "metadata": {},
     "output_type": "execute_result"
    }
   ],
   "source": [
    "bq_client = bigquery.Client()\n",
    "bigquery_project = PARAM[\"bigquery_project\"]\n",
    "bigquery_dataset = PARAM[\"bigquery_dataset\"]\n",
    "bq_client.create_dataset(dataset=bigquery_dataset, exists_ok=True)"
   ]
  },
  {
   "cell_type": "code",
   "execution_count": 10,
   "metadata": {},
   "outputs": [
    {
     "name": "stdout",
     "output_type": "stream",
     "text": [
      "json/FOCUSES_ON.json\n",
      "Loaded 100 rows and 2 columns to vertex-ai-399007.neo4j.FOCUSES_ON\n",
      "json/Category.json\n",
      "Loaded 27 rows and 3 columns to vertex-ai-399007.neo4j.Category\n",
      "json/IS_FOUND_AT_SITE.json\n",
      "Loaded 12 rows and 2 columns to vertex-ai-399007.neo4j.IS_FOUND_AT_SITE\n",
      "json/IS_CARRIED_OUT_BY.json\n",
      "Loaded 120 rows and 2 columns to vertex-ai-399007.neo4j.IS_CARRIED_OUT_BY\n",
      "json/Morphology.json\n",
      "Loaded 12 rows and 3 columns to vertex-ai-399007.neo4j.Morphology\n",
      "json/Site.json\n",
      "Loaded 2 rows and 3 columns to vertex-ai-399007.neo4j.Site\n",
      "json/Trial.json\n",
      "Loaded 73 rows and 18 columns to vertex-ai-399007.neo4j.Trial\n",
      "json/Condition.json\n",
      "Loaded 23 rows and 3 columns to vertex-ai-399007.neo4j.Condition\n",
      "json/BELONGS_TO.json\n",
      "Loaded 53 rows and 2 columns to vertex-ai-399007.neo4j.BELONGS_TO\n",
      "json/Institution.json\n",
      "Loaded 97 rows and 2 columns to vertex-ai-399007.neo4j.Institution\n",
      "json/HAS_MORPHOLOGY.json\n",
      "Loaded 14 rows and 2 columns to vertex-ai-399007.neo4j.HAS_MORPHOLOGY\n"
     ]
    }
   ],
   "source": [
    "#for f in bucket.list_blobs(prefix='json'):\n",
    "#for f in bucket.list_blobs(prefix='tsv'):\n",
    "from pathlib import Path\n",
    "\n",
    "pathlist = Path(\"json\").rglob('*.json')\n",
    "for path in pathlist:\n",
    "    full_path = str(path)\n",
    "    \n",
    "    print (full_path)\n",
    "\n",
    "    filename = full_path.split(\"/\")[1]\n",
    "    nodename = filename.split(\".\")[0]\n",
    "    # print (full_path, nodename)\n",
    "\n",
    "    # #schema_setting = [bigquery.SchemaField(property_, schema_dict[nodename][property_]) for property_ in schema_dict[nodename].keys()]\n",
    "    # schema_setting = []\n",
    "\n",
    "    # # for property_ in schema_dict[nodename].keys():\n",
    "    # #     type_ = schema_dict[nodename][property_]\n",
    "    # #     if type_ != \"LIST\":\n",
    "    # #         schema_setting.append(bigquery.SchemaField(property_, type_))\n",
    "    # #     else:\n",
    " \n",
    "    # #         schema_setting.append(bigquery.SchemaField(property_, \"STRING\", mode=\"REPEATED\"))\n",
    "\n",
    "    # #print (schema_setting)\n",
    "    job_config = bigquery.LoadJobConfig(\n",
    "    #schema=schema_setting,\n",
    "    autodetect=True,\n",
    "    #skip_leading_rows=1,\n",
    "    #field_delimiter=\"\\t\",\n",
    "    # The source format defaults to CSV, so the line below is optional.\n",
    "    source_format=bigquery.SourceFormat.NEWLINE_DELIMITED_JSON,\n",
    "    )\n",
    "\n",
    "    table_id = f\"{bigquery_project}.{bigquery_dataset}.{nodename}\"\n",
    "\n",
    "    with open(full_path, \"rb\") as source_file:\n",
    "        job = bq_client.load_table_from_file(source_file, table_id, job_config=job_config)\n",
    "\n",
    "    job.result()  # Waits for the job to complete.\n",
    "\n",
    "    table = bq_client.get_table(table_id)  # Make an API request.\n",
    "    print(\n",
    "        \"Loaded {} rows and {} columns to {}\".format(\n",
    "            table.num_rows, len(table.schema), table_id\n",
    "        )\n",
    "    )\n",
    "\n",
    "    # table_id = f\"{bigquery_project}.{bigquery_dataset}.{nodename}\"\n",
    "\n",
    "    # load_job = bq_client.load_table_from_uri(\n",
    "    #     full_path, table_id, job_config=job_config\n",
    "    # )  # Make an API request.\n",
    "\n",
    "    # load_job.result()  # Waits for the job to complete.\n",
    "\n",
    "    # destination_table = bq_client.get_table(table_id)  # Make an API request.\n",
    "    # print(\"Loaded {} rows.\".format(destination_table.num_rows))"
   ]
  },
  {
   "cell_type": "code",
   "execution_count": null,
   "metadata": {},
   "outputs": [],
   "source": []
  }
 ],
 "metadata": {
  "kernelspec": {
   "display_name": "neo4j_bigquery",
   "language": "python",
   "name": "python3"
  },
  "language_info": {
   "codemirror_mode": {
    "name": "ipython",
    "version": 3
   },
   "file_extension": ".py",
   "mimetype": "text/x-python",
   "name": "python",
   "nbconvert_exporter": "python",
   "pygments_lexer": "ipython3",
   "version": "3.11.5"
  }
 },
 "nbformat": 4,
 "nbformat_minor": 2
}
