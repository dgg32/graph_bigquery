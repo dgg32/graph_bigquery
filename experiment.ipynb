{
 "cells": [
  {
   "cell_type": "code",
   "execution_count": 1,
   "metadata": {},
   "outputs": [],
   "source": [
    "\n",
    "import yaml\n",
    "import json\n",
    "import os\n",
    "\n",
    "from neo4j import GraphDatabase\n",
    "\n",
    "\n"
   ]
  },
  {
   "cell_type": "code",
   "execution_count": 2,
   "metadata": {},
   "outputs": [],
   "source": [
    "with open(\"config.yaml\", \"r\") as stream:\n",
    "    try:\n",
    "        PARAM = yaml.safe_load(stream)\n",
    "    except yaml.YAMLError as exc:\n",
    "        print(exc)"
   ]
  },
  {
   "cell_type": "code",
   "execution_count": 3,
   "metadata": {},
   "outputs": [],
   "source": [
    "\n",
    "driver = GraphDatabase.driver(PARAM[\"neo4j_url\"], auth=(PARAM[\"neo4j_username\"], PARAM[\"neo4j_password\"]))\n",
    "\n",
    "records, summary, keys = driver.execute_query(f\"\"\"\n",
    "    CALL apoc.meta.schema()\n",
    "    YIELD value RETURN value;\n",
    "    \"\"\",\n",
    "    database_=\"neo4j\",\n",
    ")\n",
    "# Loop through results and do something with them\n",
    "for record in records:\n",
    "    schema = record.data()[\"value\"]\n",
    "    json_schema = json.dumps(record.data()[\"value\"])\n",
    "    #print (json_schema)\n"
   ]
  },
  {
   "cell_type": "code",
   "execution_count": 4,
   "metadata": {},
   "outputs": [
    {
     "data": {
      "text/plain": [
       "dict_keys(['Condition', 'IS_A_SITE_OF', 'Site', 'IS_A_CATEGORY_OF', 'IS_CARRIED_OUT_BY', 'FOCUSES_ON', 'IS_FOUND_AT_SITE', 'Institution', 'BELONGS_TO', 'HAS_MORPHOLOGY', 'Category', 'Trial', 'Morphology'])"
      ]
     },
     "execution_count": 4,
     "metadata": {},
     "output_type": "execute_result"
    }
   ],
   "source": [
    "schema.keys()"
   ]
  },
  {
   "cell_type": "code",
   "execution_count": 5,
   "metadata": {},
   "outputs": [
    {
     "data": {
      "text/plain": [
       "'node'"
      ]
     },
     "execution_count": 5,
     "metadata": {},
     "output_type": "execute_result"
    }
   ],
   "source": [
    "schema['Condition']['type']"
   ]
  },
  {
   "cell_type": "code",
   "execution_count": 6,
   "metadata": {},
   "outputs": [
    {
     "data": {
      "text/plain": [
       "{'count': 23,\n",
       " 'labels': [],\n",
       " 'properties': {'SNOMEDCT': {'unique': True,\n",
       "   'indexed': True,\n",
       "   'type': 'STRING',\n",
       "   'existence': False},\n",
       "  'name': {'unique': False,\n",
       "   'indexed': False,\n",
       "   'type': 'STRING',\n",
       "   'existence': False},\n",
       "  'UMLS': {'unique': False,\n",
       "   'indexed': False,\n",
       "   'type': 'STRING',\n",
       "   'existence': False}},\n",
       " 'type': 'node',\n",
       " 'relationships': {'HAS_MORPHOLOGY': {'count': 0,\n",
       "   'direction': 'out',\n",
       "   'labels': ['Morphology'],\n",
       "   'properties': {}},\n",
       "  'FOCUSES_ON': {'count': 26,\n",
       "   'direction': 'in',\n",
       "   'labels': ['Trial'],\n",
       "   'properties': {}},\n",
       "  'IS_FOUND_AT_SITE': {'count': 0,\n",
       "   'direction': 'out',\n",
       "   'labels': ['Site'],\n",
       "   'properties': {}},\n",
       "  'BELONGS_TO': {'count': 0,\n",
       "   'direction': 'out',\n",
       "   'labels': ['Category'],\n",
       "   'properties': {}}}}"
      ]
     },
     "execution_count": 6,
     "metadata": {},
     "output_type": "execute_result"
    }
   ],
   "source": [
    "schema['Condition']"
   ]
  },
  {
   "cell_type": "code",
   "execution_count": 7,
   "metadata": {},
   "outputs": [
    {
     "data": {
      "text/plain": [
       "{'SNOMEDCT': {'unique': True,\n",
       "  'indexed': True,\n",
       "  'type': 'STRING',\n",
       "  'existence': False},\n",
       " 'name': {'unique': False,\n",
       "  'indexed': False,\n",
       "  'type': 'STRING',\n",
       "  'existence': False},\n",
       " 'UMLS': {'unique': False,\n",
       "  'indexed': False,\n",
       "  'type': 'STRING',\n",
       "  'existence': False}}"
      ]
     },
     "execution_count": 7,
     "metadata": {},
     "output_type": "execute_result"
    }
   ],
   "source": [
    "schema['Condition']['properties']"
   ]
  },
  {
   "cell_type": "code",
   "execution_count": 8,
   "metadata": {},
   "outputs": [
    {
     "name": "stdout",
     "output_type": "stream",
     "text": [
      "Condition\n",
      "Site\n",
      "Institution\n",
      "Category\n",
      "Trial\n",
      "Morphology\n"
     ]
    }
   ],
   "source": [
    "for label in schema.keys():\n",
    "    if schema[label]['type'] == 'node':\n",
    "        print (label)"
   ]
  },
  {
   "cell_type": "code",
   "execution_count": 9,
   "metadata": {},
   "outputs": [],
   "source": [
    "variable_name = \"t\"\n",
    "output_directory = \"tsv\"\n",
    "\n",
    "for node_type in schema.keys():\n",
    "    if schema[node_type]['type'] == 'node':\n",
    "\n",
    "        records, summary, keys = driver.execute_query(f\"\"\"\n",
    "            MATCH ({variable_name}:{node_type})\n",
    "            RETURN {variable_name}\n",
    "            \"\"\",\n",
    "            database_=\"neo4j\",\n",
    "        )\n",
    "        \n",
    "        header = list(schema[node_type]['properties'].keys())\n",
    "        content = \"\\t\".join(header) + \"\\n\"\n",
    "        for record in records:\n",
    "            result = record.data()[f\"{variable_name}\"]\n",
    "            \n",
    "            for h in header:\n",
    "                if h in result:\n",
    "                    content += str(result[h]) + \"\\t\"\n",
    "                else:\n",
    "                    content += \"\\t\"\n",
    "            content = content[:-1] + \"\\n\"\n",
    "\n",
    "        with open(os.path.join(output_directory, f\"{node_type}.tsv\"), 'w') as f:\n",
    "            f.write(content)\n"
   ]
  },
  {
   "cell_type": "code",
   "execution_count": 10,
   "metadata": {},
   "outputs": [],
   "source": [
    "bucket_name = \"neo4j-bigquery-project\""
   ]
  },
  {
   "cell_type": "code",
   "execution_count": 11,
   "metadata": {},
   "outputs": [
    {
     "name": "stderr",
     "output_type": "stream",
     "text": [
      "Copying file://tsv/Morphology.tsv [Content-Type=text/tab-separated-values]...\n",
      "Copying file://tsv/Trial.tsv [Content-Type=text/tab-separated-values]...        \n",
      "Copying file://tsv/Institution.tsv [Content-Type=text/tab-separated-values]...  \n",
      "Copying file://tsv/Site.tsv [Content-Type=text/tab-separated-values]...         \n",
      "- [4 files][ 84.3 KiB/ 84.3 KiB]                                                \n",
      "==> NOTE: You are performing a sequence of gsutil operations that may\n",
      "run significantly faster if you instead use gsutil -m cp ... Please\n",
      "see the -m section under \"gsutil help options\" for further information\n",
      "about when gsutil -m can be advantageous.\n",
      "\n",
      "Copying file://tsv/Condition.tsv [Content-Type=text/tab-separated-values]...\n",
      "Copying file://tsv/Category.tsv [Content-Type=text/tab-separated-values]...     \n",
      "- [6 files][109.6 KiB/109.6 KiB]                                                \n",
      "Operation completed over 6 objects/109.6 KiB.                                    \n"
     ]
    },
    {
     "data": {
      "text/plain": [
       "0"
      ]
     },
     "execution_count": 11,
     "metadata": {},
     "output_type": "execute_result"
    }
   ],
   "source": [
    "os.system(f'{PARAM[\"gsutil_path\"]}/gsutil cp -r tsv gs://{bucket_name}/')"
   ]
  },
  {
   "cell_type": "code",
   "execution_count": 12,
   "metadata": {},
   "outputs": [],
   "source": [
    "import apache_beam as beam\n",
    "from apache_beam.options.pipeline_options import PipelineOptions, StandardOptions\n",
    "from google.cloud import bigquery\n",
    "import argparse\n",
    "from apache_beam.runners.runner import PipelineState\n",
    "from google.cloud import storage"
   ]
  },
  {
   "cell_type": "code",
   "execution_count": 13,
   "metadata": {},
   "outputs": [],
   "source": [
    "parser = argparse.ArgumentParser()\n",
    "\n",
    "args, beam_args = parser.parse_known_args()\n"
   ]
  },
  {
   "cell_type": "code",
   "execution_count": 14,
   "metadata": {},
   "outputs": [
    {
     "name": "stderr",
     "output_type": "stream",
     "text": [
      "usage: ipykernel_launcher.py [-h] [--dataflow_endpoint DATAFLOW_ENDPOINT]\n",
      "                             [--project PROJECT] [--job_name JOB_NAME]\n",
      "                             [--staging_location STAGING_LOCATION]\n",
      "                             [--temp_location TEMP_LOCATION] [--region REGION]\n",
      "                             [--service_account_email SERVICE_ACCOUNT_EMAIL]\n",
      "                             [--no_auth]\n",
      "                             [--template_location TEMPLATE_LOCATION]\n",
      "                             [--label LABELS] [--update]\n",
      "                             [--transform_name_mapping TRANSFORM_NAME_MAPPING]\n",
      "                             [--enable_streaming_engine]\n",
      "                             [--dataflow_kms_key DATAFLOW_KMS_KEY]\n",
      "                             [--create_from_snapshot CREATE_FROM_SNAPSHOT]\n",
      "                             [--flexrs_goal {COST_OPTIMIZED,SPEED_OPTIMIZED}]\n",
      "                             [--dataflow_service_option DATAFLOW_SERVICE_OPTIONS]\n",
      "                             [--enable_hot_key_logging]\n",
      "                             [--enable_artifact_caching]\n",
      "                             [--impersonate_service_account IMPERSONATE_SERVICE_ACCOUNT]\n",
      "                             [--gcp_oauth_scope GCP_OAUTH_SCOPES]\n",
      "ipykernel_launcher.py: error: argument --flexrs_goal: invalid choice: '/home/dgg32/.local/share/jupyter/runtime/kernel-v2-32771z13YV9uHSwc.json' (choose from 'COST_OPTIMIZED', 'SPEED_OPTIMIZED')\n"
     ]
    },
    {
     "ename": "AttributeError",
     "evalue": "'tuple' object has no attribute 'tb_frame'",
     "output_type": "error",
     "traceback": [
      "\u001b[0;31m---------------------------------------------------------------------------\u001b[0m",
      "\u001b[0;31mArgumentError\u001b[0m                             Traceback (most recent call last)",
      "File \u001b[0;32m~/anaconda3/envs/neo4j_bigquery/lib/python3.11/argparse.py:1902\u001b[0m, in \u001b[0;36mArgumentParser.parse_known_args\u001b[0;34m(self, args, namespace)\u001b[0m\n\u001b[1;32m   1901\u001b[0m \u001b[39mtry\u001b[39;00m:\n\u001b[0;32m-> 1902\u001b[0m     namespace, args \u001b[39m=\u001b[39m \u001b[39mself\u001b[39;49m\u001b[39m.\u001b[39;49m_parse_known_args(args, namespace)\n\u001b[1;32m   1903\u001b[0m \u001b[39mexcept\u001b[39;00m ArgumentError \u001b[39mas\u001b[39;00m err:\n",
      "File \u001b[0;32m~/anaconda3/envs/neo4j_bigquery/lib/python3.11/argparse.py:2114\u001b[0m, in \u001b[0;36mArgumentParser._parse_known_args\u001b[0;34m(self, arg_strings, namespace)\u001b[0m\n\u001b[1;32m   2113\u001b[0m     \u001b[39m# consume the next optional and any arguments for it\u001b[39;00m\n\u001b[0;32m-> 2114\u001b[0m     start_index \u001b[39m=\u001b[39m consume_optional(start_index)\n\u001b[1;32m   2116\u001b[0m \u001b[39m# consume any positionals following the last Optional\u001b[39;00m\n",
      "File \u001b[0;32m~/anaconda3/envs/neo4j_bigquery/lib/python3.11/argparse.py:2054\u001b[0m, in \u001b[0;36mArgumentParser._parse_known_args.<locals>.consume_optional\u001b[0;34m(start_index)\u001b[0m\n\u001b[1;32m   2053\u001b[0m \u001b[39mfor\u001b[39;00m action, args, option_string \u001b[39min\u001b[39;00m action_tuples:\n\u001b[0;32m-> 2054\u001b[0m     take_action(action, args, option_string)\n\u001b[1;32m   2055\u001b[0m \u001b[39mreturn\u001b[39;00m stop\n",
      "File \u001b[0;32m~/anaconda3/envs/neo4j_bigquery/lib/python3.11/argparse.py:1962\u001b[0m, in \u001b[0;36mArgumentParser._parse_known_args.<locals>.take_action\u001b[0;34m(action, argument_strings, option_string)\u001b[0m\n\u001b[1;32m   1961\u001b[0m seen_actions\u001b[39m.\u001b[39madd(action)\n\u001b[0;32m-> 1962\u001b[0m argument_values \u001b[39m=\u001b[39m \u001b[39mself\u001b[39;49m\u001b[39m.\u001b[39;49m_get_values(action, argument_strings)\n\u001b[1;32m   1964\u001b[0m \u001b[39m# error if this argument is not allowed with other previously\u001b[39;00m\n\u001b[1;32m   1965\u001b[0m \u001b[39m# seen arguments, assuming that actions that use the default\u001b[39;00m\n\u001b[1;32m   1966\u001b[0m \u001b[39m# value don't really count as \"present\"\u001b[39;00m\n",
      "File \u001b[0;32m~/anaconda3/envs/neo4j_bigquery/lib/python3.11/argparse.py:2497\u001b[0m, in \u001b[0;36mArgumentParser._get_values\u001b[0;34m(self, action, arg_strings)\u001b[0m\n\u001b[1;32m   2496\u001b[0m     value \u001b[39m=\u001b[39m \u001b[39mself\u001b[39m\u001b[39m.\u001b[39m_get_value(action, arg_string)\n\u001b[0;32m-> 2497\u001b[0m     \u001b[39mself\u001b[39;49m\u001b[39m.\u001b[39;49m_check_value(action, value)\n\u001b[1;32m   2499\u001b[0m \u001b[39m# REMAINDER arguments convert all values, checking none\u001b[39;00m\n",
      "File \u001b[0;32m~/anaconda3/envs/neo4j_bigquery/lib/python3.11/argparse.py:2553\u001b[0m, in \u001b[0;36mArgumentParser._check_value\u001b[0;34m(self, action, value)\u001b[0m\n\u001b[1;32m   2552\u001b[0m msg \u001b[39m=\u001b[39m _(\u001b[39m'\u001b[39m\u001b[39minvalid choice: \u001b[39m\u001b[39m%(value)r\u001b[39;00m\u001b[39m (choose from \u001b[39m\u001b[39m%(choices)s\u001b[39;00m\u001b[39m)\u001b[39m\u001b[39m'\u001b[39m)\n\u001b[0;32m-> 2553\u001b[0m \u001b[39mraise\u001b[39;00m ArgumentError(action, msg \u001b[39m%\u001b[39m args)\n",
      "\u001b[0;31mArgumentError\u001b[0m: argument --flexrs_goal: invalid choice: '/home/dgg32/.local/share/jupyter/runtime/kernel-v2-32771z13YV9uHSwc.json' (choose from 'COST_OPTIMIZED', 'SPEED_OPTIMIZED')",
      "\nDuring handling of the above exception, another exception occurred:\n",
      "\u001b[0;31mSystemExit\u001b[0m                                Traceback (most recent call last)",
      "    \u001b[0;31m[... skipping hidden 1 frame]\u001b[0m\n",
      "\u001b[1;32m/home/dgg32/Documents/graph_bigquery/experiment.ipynb Cell 14\u001b[0m line \u001b[0;36m1\n\u001b[1;32m      <a href='vscode-notebook-cell:/home/dgg32/Documents/graph_bigquery/experiment.ipynb#X13sZmlsZQ%3D%3D?line=0'>1</a>\u001b[0m beam_options \u001b[39m=\u001b[39m PipelineOptions(\n\u001b[1;32m      <a href='vscode-notebook-cell:/home/dgg32/Documents/graph_bigquery/experiment.ipynb#X13sZmlsZQ%3D%3D?line=1'>2</a>\u001b[0m     beam_args,\n\u001b[1;32m      <a href='vscode-notebook-cell:/home/dgg32/Documents/graph_bigquery/experiment.ipynb#X13sZmlsZQ%3D%3D?line=2'>3</a>\u001b[0m     runner\u001b[39m=\u001b[39m\u001b[39m'\u001b[39m\u001b[39mDataflowRunner\u001b[39m\u001b[39m'\u001b[39m,\n\u001b[0;32m   (...)\u001b[0m\n\u001b[1;32m      <a href='vscode-notebook-cell:/home/dgg32/Documents/graph_bigquery/experiment.ipynb#X13sZmlsZQ%3D%3D?line=5'>6</a>\u001b[0m     temp_location\u001b[39m=\u001b[39m\u001b[39m'\u001b[39m\u001b[39mgs://neo4j-bigquery-project\u001b[39m\u001b[39m'\u001b[39m,\n\u001b[1;32m      <a href='vscode-notebook-cell:/home/dgg32/Documents/graph_bigquery/experiment.ipynb#X13sZmlsZQ%3D%3D?line=6'>7</a>\u001b[0m     region\u001b[39m=\u001b[39m\u001b[39m'\u001b[39m\u001b[39masia-northeast1\u001b[39m\u001b[39m'\u001b[39m)\n\u001b[0;32m---> <a href='vscode-notebook-cell:/home/dgg32/Documents/graph_bigquery/experiment.ipynb#X13sZmlsZQ%3D%3D?line=9'>10</a>\u001b[0m p \u001b[39m=\u001b[39m beam\u001b[39m.\u001b[39;49mPipeline(options\u001b[39m=\u001b[39;49mbeam_options)\n",
      "File \u001b[0;32m~/anaconda3/envs/neo4j_bigquery/lib/python3.11/site-packages/apache_beam/pipeline.py:201\u001b[0m, in \u001b[0;36mPipeline.__init__\u001b[0;34m(self, runner, options, argv)\u001b[0m\n\u001b[1;32m    200\u001b[0m \u001b[39m# Validate pipeline options\u001b[39;00m\n\u001b[0;32m--> 201\u001b[0m errors \u001b[39m=\u001b[39m PipelineOptionsValidator(\u001b[39mself\u001b[39;49m\u001b[39m.\u001b[39;49m_options, runner)\u001b[39m.\u001b[39;49mvalidate()\n\u001b[1;32m    202\u001b[0m \u001b[39mif\u001b[39;00m errors:\n",
      "File \u001b[0;32m~/anaconda3/envs/neo4j_bigquery/lib/python3.11/site-packages/apache_beam/options/pipeline_options_validator.py:149\u001b[0m, in \u001b[0;36mPipelineOptionsValidator.validate\u001b[0;34m(self)\u001b[0m\n\u001b[1;32m    148\u001b[0m   \u001b[39mif\u001b[39;00m \u001b[39m'\u001b[39m\u001b[39mvalidate\u001b[39m\u001b[39m'\u001b[39m \u001b[39min\u001b[39;00m \u001b[39mcls\u001b[39m\u001b[39m.\u001b[39m\u001b[39m__dict__\u001b[39m \u001b[39mand\u001b[39;00m \u001b[39mcallable\u001b[39m(\u001b[39mcls\u001b[39m\u001b[39m.\u001b[39m\u001b[39m__dict__\u001b[39m[\u001b[39m'\u001b[39m\u001b[39mvalidate\u001b[39m\u001b[39m'\u001b[39m]):\n\u001b[0;32m--> 149\u001b[0m     errors\u001b[39m.\u001b[39mextend(\u001b[39mself\u001b[39;49m\u001b[39m.\u001b[39;49moptions\u001b[39m.\u001b[39;49mview_as(\u001b[39mcls\u001b[39;49m)\u001b[39m.\u001b[39mvalidate(\u001b[39mself\u001b[39m))\n\u001b[1;32m    150\u001b[0m \u001b[39mreturn\u001b[39;00m errors\n",
      "File \u001b[0;32m~/anaconda3/envs/neo4j_bigquery/lib/python3.11/site-packages/apache_beam/options/pipeline_options.py:416\u001b[0m, in \u001b[0;36mPipelineOptions.view_as\u001b[0;34m(self, cls)\u001b[0m\n\u001b[1;32m    395\u001b[0m \u001b[39m\u001b[39m\u001b[39m\"\"\"Returns a view of current object as provided PipelineOption subclass.\u001b[39;00m\n\u001b[1;32m    396\u001b[0m \n\u001b[1;32m    397\u001b[0m \u001b[39mExample Usage::\u001b[39;00m\n\u001b[0;32m   (...)\u001b[0m\n\u001b[1;32m    414\u001b[0m \n\u001b[1;32m    415\u001b[0m \u001b[39m\"\"\"\u001b[39;00m\n\u001b[0;32m--> 416\u001b[0m view \u001b[39m=\u001b[39m \u001b[39mcls\u001b[39;49m(\u001b[39mself\u001b[39;49m\u001b[39m.\u001b[39;49m_flags)\n\u001b[1;32m    418\u001b[0m \u001b[39mfor\u001b[39;00m option_name \u001b[39min\u001b[39;00m view\u001b[39m.\u001b[39m_visible_option_list():\n\u001b[1;32m    419\u001b[0m   \u001b[39m# Initialize values of keys defined by a cls.\u001b[39;00m\n\u001b[1;32m    420\u001b[0m   \u001b[39m#\u001b[39;00m\n\u001b[0;32m   (...)\u001b[0m\n\u001b[1;32m    424\u001b[0m   \u001b[39m# backed by the same list across multiple views, and that any overrides of\u001b[39;00m\n\u001b[1;32m    425\u001b[0m   \u001b[39m# pipeline options already stored in _all_options are preserved.\u001b[39;00m\n",
      "File \u001b[0;32m~/anaconda3/envs/neo4j_bigquery/lib/python3.11/site-packages/apache_beam/options/pipeline_options.py:231\u001b[0m, in \u001b[0;36mPipelineOptions.__init__\u001b[0;34m(self, flags, **kwargs)\u001b[0m\n\u001b[1;32m    229\u001b[0m \u001b[39m# The _visible_options attribute will contain options that were recognized\u001b[39;00m\n\u001b[1;32m    230\u001b[0m \u001b[39m# by the parser.\u001b[39;00m\n\u001b[0;32m--> 231\u001b[0m \u001b[39mself\u001b[39m\u001b[39m.\u001b[39m_visible_options, _ \u001b[39m=\u001b[39m parser\u001b[39m.\u001b[39;49mparse_known_args(flags)\n\u001b[1;32m    233\u001b[0m \u001b[39m# self._all_options is initialized with overrides to flag values,\u001b[39;00m\n\u001b[1;32m    234\u001b[0m \u001b[39m# provided in kwargs, and will store key-value pairs for options recognized\u001b[39;00m\n\u001b[1;32m    235\u001b[0m \u001b[39m# by current PipelineOptions [sub]class and its views that may be created.\u001b[39;00m\n\u001b[0;32m   (...)\u001b[0m\n\u001b[1;32m    238\u001b[0m \u001b[39m# as each new views are created.\u001b[39;00m\n\u001b[1;32m    239\u001b[0m \u001b[39m# Users access this dictionary store via __getattr__ / __setattr__ methods.\u001b[39;00m\n",
      "File \u001b[0;32m~/anaconda3/envs/neo4j_bigquery/lib/python3.11/argparse.py:1904\u001b[0m, in \u001b[0;36mArgumentParser.parse_known_args\u001b[0;34m(self, args, namespace)\u001b[0m\n\u001b[1;32m   1903\u001b[0m     \u001b[39mexcept\u001b[39;00m ArgumentError \u001b[39mas\u001b[39;00m err:\n\u001b[0;32m-> 1904\u001b[0m         \u001b[39mself\u001b[39;49m\u001b[39m.\u001b[39;49merror(\u001b[39mstr\u001b[39;49m(err))\n\u001b[1;32m   1905\u001b[0m \u001b[39melse\u001b[39;00m:\n",
      "File \u001b[0;32m~/anaconda3/envs/neo4j_bigquery/lib/python3.11/site-packages/apache_beam/options/pipeline_options.py:135\u001b[0m, in \u001b[0;36m_BeamArgumentParser.error\u001b[0;34m(self, message)\u001b[0m\n\u001b[1;32m    134\u001b[0m   \u001b[39mreturn\u001b[39;00m\n\u001b[0;32m--> 135\u001b[0m \u001b[39msuper\u001b[39;49m()\u001b[39m.\u001b[39;49merror(message)\n",
      "File \u001b[0;32m~/anaconda3/envs/neo4j_bigquery/lib/python3.11/argparse.py:2630\u001b[0m, in \u001b[0;36mArgumentParser.error\u001b[0;34m(self, message)\u001b[0m\n\u001b[1;32m   2629\u001b[0m args \u001b[39m=\u001b[39m {\u001b[39m'\u001b[39m\u001b[39mprog\u001b[39m\u001b[39m'\u001b[39m: \u001b[39mself\u001b[39m\u001b[39m.\u001b[39mprog, \u001b[39m'\u001b[39m\u001b[39mmessage\u001b[39m\u001b[39m'\u001b[39m: message}\n\u001b[0;32m-> 2630\u001b[0m \u001b[39mself\u001b[39;49m\u001b[39m.\u001b[39;49mexit(\u001b[39m2\u001b[39;49m, _(\u001b[39m'\u001b[39;49m\u001b[39m%(prog)s\u001b[39;49;00m\u001b[39m: error: \u001b[39;49m\u001b[39m%(message)s\u001b[39;49;00m\u001b[39m\\n\u001b[39;49;00m\u001b[39m'\u001b[39;49m) \u001b[39m%\u001b[39;49m args)\n",
      "File \u001b[0;32m~/anaconda3/envs/neo4j_bigquery/lib/python3.11/argparse.py:2617\u001b[0m, in \u001b[0;36mArgumentParser.exit\u001b[0;34m(self, status, message)\u001b[0m\n\u001b[1;32m   2616\u001b[0m     \u001b[39mself\u001b[39m\u001b[39m.\u001b[39m_print_message(message, _sys\u001b[39m.\u001b[39mstderr)\n\u001b[0;32m-> 2617\u001b[0m _sys\u001b[39m.\u001b[39;49mexit(status)\n",
      "\u001b[0;31mSystemExit\u001b[0m: 2",
      "\nDuring handling of the above exception, another exception occurred:\n",
      "\u001b[0;31mAttributeError\u001b[0m                            Traceback (most recent call last)",
      "    \u001b[0;31m[... skipping hidden 1 frame]\u001b[0m\n",
      "File \u001b[0;32m~/anaconda3/envs/neo4j_bigquery/lib/python3.11/site-packages/IPython/core/interactiveshell.py:2119\u001b[0m, in \u001b[0;36mInteractiveShell.showtraceback\u001b[0;34m(self, exc_tuple, filename, tb_offset, exception_only, running_compiled_code)\u001b[0m\n\u001b[1;32m   2116\u001b[0m \u001b[39mif\u001b[39;00m exception_only:\n\u001b[1;32m   2117\u001b[0m     stb \u001b[39m=\u001b[39m [\u001b[39m'\u001b[39m\u001b[39mAn exception has occurred, use \u001b[39m\u001b[39m%\u001b[39m\u001b[39mtb to see \u001b[39m\u001b[39m'\u001b[39m\n\u001b[1;32m   2118\u001b[0m            \u001b[39m'\u001b[39m\u001b[39mthe full traceback.\u001b[39m\u001b[39m\\n\u001b[39;00m\u001b[39m'\u001b[39m]\n\u001b[0;32m-> 2119\u001b[0m     stb\u001b[39m.\u001b[39mextend(\u001b[39mself\u001b[39;49m\u001b[39m.\u001b[39;49mInteractiveTB\u001b[39m.\u001b[39;49mget_exception_only(etype,\n\u001b[1;32m   2120\u001b[0m                                                      value))\n\u001b[1;32m   2121\u001b[0m \u001b[39melse\u001b[39;00m:\n\u001b[1;32m   2123\u001b[0m     \u001b[39mdef\u001b[39;00m \u001b[39mcontains_exceptiongroup\u001b[39m(val):\n",
      "File \u001b[0;32m~/anaconda3/envs/neo4j_bigquery/lib/python3.11/site-packages/IPython/core/ultratb.py:710\u001b[0m, in \u001b[0;36mListTB.get_exception_only\u001b[0;34m(self, etype, value)\u001b[0m\n\u001b[1;32m    702\u001b[0m \u001b[39mdef\u001b[39;00m \u001b[39mget_exception_only\u001b[39m(\u001b[39mself\u001b[39m, etype, value):\n\u001b[1;32m    703\u001b[0m \u001b[39m    \u001b[39m\u001b[39m\"\"\"Only print the exception type and message, without a traceback.\u001b[39;00m\n\u001b[1;32m    704\u001b[0m \n\u001b[1;32m    705\u001b[0m \u001b[39m    Parameters\u001b[39;00m\n\u001b[0;32m   (...)\u001b[0m\n\u001b[1;32m    708\u001b[0m \u001b[39m    value : exception value\u001b[39;00m\n\u001b[1;32m    709\u001b[0m \u001b[39m    \"\"\"\u001b[39;00m\n\u001b[0;32m--> 710\u001b[0m     \u001b[39mreturn\u001b[39;00m ListTB\u001b[39m.\u001b[39;49mstructured_traceback(\u001b[39mself\u001b[39;49m, etype, value)\n",
      "File \u001b[0;32m~/anaconda3/envs/neo4j_bigquery/lib/python3.11/site-packages/IPython/core/ultratb.py:568\u001b[0m, in \u001b[0;36mListTB.structured_traceback\u001b[0;34m(self, etype, evalue, etb, tb_offset, context)\u001b[0m\n\u001b[1;32m    565\u001b[0m     chained_exc_ids\u001b[39m.\u001b[39madd(\u001b[39mid\u001b[39m(exception[\u001b[39m1\u001b[39m]))\n\u001b[1;32m    566\u001b[0m     chained_exceptions_tb_offset \u001b[39m=\u001b[39m \u001b[39m0\u001b[39m\n\u001b[1;32m    567\u001b[0m     out_list \u001b[39m=\u001b[39m (\n\u001b[0;32m--> 568\u001b[0m         \u001b[39mself\u001b[39;49m\u001b[39m.\u001b[39;49mstructured_traceback(\n\u001b[1;32m    569\u001b[0m             etype,\n\u001b[1;32m    570\u001b[0m             evalue,\n\u001b[1;32m    571\u001b[0m             (etb, chained_exc_ids),  \u001b[39m# type: ignore\u001b[39;49;00m\n\u001b[1;32m    572\u001b[0m             chained_exceptions_tb_offset,\n\u001b[1;32m    573\u001b[0m             context,\n\u001b[1;32m    574\u001b[0m         )\n\u001b[1;32m    575\u001b[0m         \u001b[39m+\u001b[39m chained_exception_message\n\u001b[1;32m    576\u001b[0m         \u001b[39m+\u001b[39m out_list)\n\u001b[1;32m    578\u001b[0m \u001b[39mreturn\u001b[39;00m out_list\n",
      "File \u001b[0;32m~/anaconda3/envs/neo4j_bigquery/lib/python3.11/site-packages/IPython/core/ultratb.py:1435\u001b[0m, in \u001b[0;36mAutoFormattedTB.structured_traceback\u001b[0;34m(self, etype, evalue, etb, tb_offset, number_of_lines_of_context)\u001b[0m\n\u001b[1;32m   1433\u001b[0m \u001b[39melse\u001b[39;00m:\n\u001b[1;32m   1434\u001b[0m     \u001b[39mself\u001b[39m\u001b[39m.\u001b[39mtb \u001b[39m=\u001b[39m etb\n\u001b[0;32m-> 1435\u001b[0m \u001b[39mreturn\u001b[39;00m FormattedTB\u001b[39m.\u001b[39;49mstructured_traceback(\n\u001b[1;32m   1436\u001b[0m     \u001b[39mself\u001b[39;49m, etype, evalue, etb, tb_offset, number_of_lines_of_context\n\u001b[1;32m   1437\u001b[0m )\n",
      "File \u001b[0;32m~/anaconda3/envs/neo4j_bigquery/lib/python3.11/site-packages/IPython/core/ultratb.py:1326\u001b[0m, in \u001b[0;36mFormattedTB.structured_traceback\u001b[0;34m(self, etype, value, tb, tb_offset, number_of_lines_of_context)\u001b[0m\n\u001b[1;32m   1323\u001b[0m mode \u001b[39m=\u001b[39m \u001b[39mself\u001b[39m\u001b[39m.\u001b[39mmode\n\u001b[1;32m   1324\u001b[0m \u001b[39mif\u001b[39;00m mode \u001b[39min\u001b[39;00m \u001b[39mself\u001b[39m\u001b[39m.\u001b[39mverbose_modes:\n\u001b[1;32m   1325\u001b[0m     \u001b[39m# Verbose modes need a full traceback\u001b[39;00m\n\u001b[0;32m-> 1326\u001b[0m     \u001b[39mreturn\u001b[39;00m VerboseTB\u001b[39m.\u001b[39;49mstructured_traceback(\n\u001b[1;32m   1327\u001b[0m         \u001b[39mself\u001b[39;49m, etype, value, tb, tb_offset, number_of_lines_of_context\n\u001b[1;32m   1328\u001b[0m     )\n\u001b[1;32m   1329\u001b[0m \u001b[39melif\u001b[39;00m mode \u001b[39m==\u001b[39m \u001b[39m'\u001b[39m\u001b[39mMinimal\u001b[39m\u001b[39m'\u001b[39m:\n\u001b[1;32m   1330\u001b[0m     \u001b[39mreturn\u001b[39;00m ListTB\u001b[39m.\u001b[39mget_exception_only(\u001b[39mself\u001b[39m, etype, value)\n",
      "File \u001b[0;32m~/anaconda3/envs/neo4j_bigquery/lib/python3.11/site-packages/IPython/core/ultratb.py:1173\u001b[0m, in \u001b[0;36mVerboseTB.structured_traceback\u001b[0;34m(self, etype, evalue, etb, tb_offset, number_of_lines_of_context)\u001b[0m\n\u001b[1;32m   1164\u001b[0m \u001b[39mdef\u001b[39;00m \u001b[39mstructured_traceback\u001b[39m(\n\u001b[1;32m   1165\u001b[0m     \u001b[39mself\u001b[39m,\n\u001b[1;32m   1166\u001b[0m     etype: \u001b[39mtype\u001b[39m,\n\u001b[0;32m   (...)\u001b[0m\n\u001b[1;32m   1170\u001b[0m     number_of_lines_of_context: \u001b[39mint\u001b[39m \u001b[39m=\u001b[39m \u001b[39m5\u001b[39m,\n\u001b[1;32m   1171\u001b[0m ):\n\u001b[1;32m   1172\u001b[0m \u001b[39m    \u001b[39m\u001b[39m\"\"\"Return a nice text document describing the traceback.\"\"\"\u001b[39;00m\n\u001b[0;32m-> 1173\u001b[0m     formatted_exception \u001b[39m=\u001b[39m \u001b[39mself\u001b[39;49m\u001b[39m.\u001b[39;49mformat_exception_as_a_whole(etype, evalue, etb, number_of_lines_of_context,\n\u001b[1;32m   1174\u001b[0m                                                            tb_offset)\n\u001b[1;32m   1176\u001b[0m     colors \u001b[39m=\u001b[39m \u001b[39mself\u001b[39m\u001b[39m.\u001b[39mColors  \u001b[39m# just a shorthand + quicker name lookup\u001b[39;00m\n\u001b[1;32m   1177\u001b[0m     colorsnormal \u001b[39m=\u001b[39m colors\u001b[39m.\u001b[39mNormal  \u001b[39m# used a lot\u001b[39;00m\n",
      "File \u001b[0;32m~/anaconda3/envs/neo4j_bigquery/lib/python3.11/site-packages/IPython/core/ultratb.py:1063\u001b[0m, in \u001b[0;36mVerboseTB.format_exception_as_a_whole\u001b[0;34m(self, etype, evalue, etb, number_of_lines_of_context, tb_offset)\u001b[0m\n\u001b[1;32m   1060\u001b[0m \u001b[39massert\u001b[39;00m \u001b[39misinstance\u001b[39m(tb_offset, \u001b[39mint\u001b[39m)\n\u001b[1;32m   1061\u001b[0m head \u001b[39m=\u001b[39m \u001b[39mself\u001b[39m\u001b[39m.\u001b[39mprepare_header(\u001b[39mstr\u001b[39m(etype), \u001b[39mself\u001b[39m\u001b[39m.\u001b[39mlong_header)\n\u001b[1;32m   1062\u001b[0m records \u001b[39m=\u001b[39m (\n\u001b[0;32m-> 1063\u001b[0m     \u001b[39mself\u001b[39;49m\u001b[39m.\u001b[39;49mget_records(etb, number_of_lines_of_context, tb_offset) \u001b[39mif\u001b[39;00m etb \u001b[39melse\u001b[39;00m []\n\u001b[1;32m   1064\u001b[0m )\n\u001b[1;32m   1066\u001b[0m frames \u001b[39m=\u001b[39m []\n\u001b[1;32m   1067\u001b[0m skipped \u001b[39m=\u001b[39m \u001b[39m0\u001b[39m\n",
      "File \u001b[0;32m~/anaconda3/envs/neo4j_bigquery/lib/python3.11/site-packages/IPython/core/ultratb.py:1131\u001b[0m, in \u001b[0;36mVerboseTB.get_records\u001b[0;34m(self, etb, number_of_lines_of_context, tb_offset)\u001b[0m\n\u001b[1;32m   1129\u001b[0m \u001b[39mwhile\u001b[39;00m cf \u001b[39mis\u001b[39;00m \u001b[39mnot\u001b[39;00m \u001b[39mNone\u001b[39;00m:\n\u001b[1;32m   1130\u001b[0m     \u001b[39mtry\u001b[39;00m:\n\u001b[0;32m-> 1131\u001b[0m         mod \u001b[39m=\u001b[39m inspect\u001b[39m.\u001b[39mgetmodule(cf\u001b[39m.\u001b[39;49mtb_frame)\n\u001b[1;32m   1132\u001b[0m         \u001b[39mif\u001b[39;00m mod \u001b[39mis\u001b[39;00m \u001b[39mnot\u001b[39;00m \u001b[39mNone\u001b[39;00m:\n\u001b[1;32m   1133\u001b[0m             mod_name \u001b[39m=\u001b[39m mod\u001b[39m.\u001b[39m\u001b[39m__name__\u001b[39m\n",
      "\u001b[0;31mAttributeError\u001b[0m: 'tuple' object has no attribute 'tb_frame'"
     ]
    }
   ],
   "source": [
    "beam_options = PipelineOptions(\n",
    "    beam_args,\n",
    "    runner='DataflowRunner',\n",
    "    project=\"715484494373\",\n",
    "    job_name='import neo4j to bigquery',\n",
    "    temp_location='gs://neo4j-bigquery-project',\n",
    "    region='asia-northeast1')\n",
    "\n",
    "\n",
    "p = beam.Pipeline(options=beam_options)"
   ]
  },
  {
   "cell_type": "code",
   "execution_count": null,
   "metadata": {},
   "outputs": [],
   "source": [
    "os.environ[\"GOOGLE_CLOUD_PROJECT\"] = PARAM[\"gcp_project_id\"]\n",
    "client = bigquery.Client()"
   ]
  },
  {
   "cell_type": "code",
   "execution_count": null,
   "metadata": {},
   "outputs": [],
   "source": [
    "dataset_id = f\"{PARAM['gcp_project_name']}.{PARAM['bigquery_dataset']}\""
   ]
  },
  {
   "cell_type": "code",
   "execution_count": null,
   "metadata": {},
   "outputs": [
    {
     "name": "stdout",
     "output_type": "stream",
     "text": [
      "715484494373\n"
     ]
    }
   ],
   "source": [
    "print (client.project)"
   ]
  },
  {
   "cell_type": "code",
   "execution_count": null,
   "metadata": {},
   "outputs": [],
   "source": [
    "try:\n",
    "\tclient.get_dataset(dataset_id)\n",
    "\t\n",
    "except:\n",
    "\tdataset = bigquery.Dataset(dataset_id)  #\n",
    "\n",
    "\tdataset.location = \"asia-northeast1\"\n",
    "\tdataset.description = \"dataset for clinical trial data\"\n",
    "\n",
    "\tdataset_ref = client.create_dataset(dataset, timeout=30)  # Make an API request."
   ]
  },
  {
   "cell_type": "code",
   "execution_count": null,
   "metadata": {},
   "outputs": [
    {
     "name": "stdout",
     "output_type": "stream",
     "text": [
      "tsv/Category.tsv\n",
      "tsv/Condition.tsv\n",
      "tsv/Institution.tsv\n",
      "tsv/Morphology.tsv\n",
      "tsv/Site.tsv\n",
      "tsv/Trial.tsv\n"
     ]
    }
   ],
   "source": [
    "bucket_client = storage.Client()\n",
    "bucket = bucket_client.bucket(bucket_name)\n",
    "for blob in bucket.list_blobs(prefix='tsv'):\n",
    "  print (blob.name)"
   ]
  },
  {
   "cell_type": "code",
   "execution_count": null,
   "metadata": {},
   "outputs": [
    {
     "name": "stdout",
     "output_type": "stream",
     "text": [
      "gs://neo4j-bigquery-project/tsv/Category.tsv\n"
     ]
    },
    {
     "name": "stderr",
     "output_type": "stream",
     "text": [
      "ERROR:apache_beam.runners.common:Invalid GCS location: None.\n",
      "Writing to BigQuery with FILE_LOADS method requires a GCS location to be provided to write files to be loaded into BigQuery. Please provide a GCS bucket through custom_gcs_temp_location in the constructor of WriteToBigQuery or the fallback option --temp_location, or pass method=\"STREAMING_INSERTS\" to WriteToBigQuery. [while running '[60]: Write to Category.tsv output table/BigQueryBatchFileLoads/GenerateFilePrefix']\n",
      "Traceback (most recent call last):\n",
      "  File \"apache_beam/runners/common.py\", line 1434, in apache_beam.runners.common.DoFnRunner.process\n",
      "  File \"apache_beam/runners/common.py\", line 637, in apache_beam.runners.common.SimpleInvoker.invoke_process\n",
      "  File \"/home/dgg32/anaconda3/envs/neo4j_bigquery/lib/python3.11/site-packages/apache_beam/transforms/core.py\", line 1963, in <lambda>\n",
      "    wrapper = lambda x: [fn(x)]\n",
      "                         ^^^^^\n",
      "  File \"/home/dgg32/anaconda3/envs/neo4j_bigquery/lib/python3.11/site-packages/apache_beam/io/gcp/bigquery_file_loads.py\", line 105, in _generate_file_prefix\n",
      "    raise ValueError(\n",
      "ValueError: Invalid GCS location: None.\n",
      "Writing to BigQuery with FILE_LOADS method requires a GCS location to be provided to write files to be loaded into BigQuery. Please provide a GCS bucket through custom_gcs_temp_location in the constructor of WriteToBigQuery or the fallback option --temp_location, or pass method=\"STREAMING_INSERTS\" to WriteToBigQuery.\n"
     ]
    },
    {
     "ename": "ValueError",
     "evalue": "Invalid GCS location: None.\nWriting to BigQuery with FILE_LOADS method requires a GCS location to be provided to write files to be loaded into BigQuery. Please provide a GCS bucket through custom_gcs_temp_location in the constructor of WriteToBigQuery or the fallback option --temp_location, or pass method=\"STREAMING_INSERTS\" to WriteToBigQuery. [while running '[60]: Write to Category.tsv output table/BigQueryBatchFileLoads/GenerateFilePrefix']",
     "output_type": "error",
     "traceback": [
      "\u001b[0;31m---------------------------------------------------------------------------\u001b[0m",
      "\u001b[0;31mValueError\u001b[0m                                Traceback (most recent call last)",
      "File \u001b[0;32m~/anaconda3/envs/neo4j_bigquery/lib/python3.11/site-packages/apache_beam/runners/common.py:1434\u001b[0m, in \u001b[0;36mapache_beam.runners.common.DoFnRunner.process\u001b[0;34m()\u001b[0m\n",
      "File \u001b[0;32m~/anaconda3/envs/neo4j_bigquery/lib/python3.11/site-packages/apache_beam/runners/common.py:637\u001b[0m, in \u001b[0;36mapache_beam.runners.common.SimpleInvoker.invoke_process\u001b[0;34m()\u001b[0m\n",
      "File \u001b[0;32m~/anaconda3/envs/neo4j_bigquery/lib/python3.11/site-packages/apache_beam/transforms/core.py:1963\u001b[0m, in \u001b[0;36mMap.<locals>.<lambda>\u001b[0;34m(x)\u001b[0m\n\u001b[1;32m   1962\u001b[0m \u001b[39melse\u001b[39;00m:\n\u001b[0;32m-> 1963\u001b[0m   wrapper \u001b[39m=\u001b[39m \u001b[39mlambda\u001b[39;00m x: [fn(x)]\n\u001b[1;32m   1965\u001b[0m label \u001b[39m=\u001b[39m \u001b[39m'\u001b[39m\u001b[39mMap(\u001b[39m\u001b[39m%s\u001b[39;00m\u001b[39m)\u001b[39m\u001b[39m'\u001b[39m \u001b[39m%\u001b[39m ptransform\u001b[39m.\u001b[39mlabel_from_callable(fn)\n",
      "File \u001b[0;32m~/anaconda3/envs/neo4j_bigquery/lib/python3.11/site-packages/apache_beam/io/gcp/bigquery_file_loads.py:105\u001b[0m, in \u001b[0;36mfile_prefix_generator.<locals>._generate_file_prefix\u001b[0;34m(unused_elm)\u001b[0m\n\u001b[1;32m    104\u001b[0m \u001b[39mif\u001b[39;00m with_validation \u001b[39mand\u001b[39;00m (\u001b[39mnot\u001b[39;00m gcs_base \u001b[39mor\u001b[39;00m \u001b[39mnot\u001b[39;00m gcs_base\u001b[39m.\u001b[39mstartswith(\u001b[39m'\u001b[39m\u001b[39mgs://\u001b[39m\u001b[39m'\u001b[39m)):\n\u001b[0;32m--> 105\u001b[0m   \u001b[39mraise\u001b[39;00m \u001b[39mValueError\u001b[39;00m(\n\u001b[1;32m    106\u001b[0m       \u001b[39m'\u001b[39m\u001b[39mInvalid GCS location: \u001b[39m\u001b[39m%r\u001b[39;00m\u001b[39m.\u001b[39m\u001b[39m\\n\u001b[39;00m\u001b[39m'\u001b[39m\n\u001b[1;32m    107\u001b[0m       \u001b[39m'\u001b[39m\u001b[39mWriting to BigQuery with FILE_LOADS method requires a\u001b[39m\u001b[39m'\u001b[39m\n\u001b[1;32m    108\u001b[0m       \u001b[39m'\u001b[39m\u001b[39m GCS location to be provided to write files to be loaded\u001b[39m\u001b[39m'\u001b[39m\n\u001b[1;32m    109\u001b[0m       \u001b[39m'\u001b[39m\u001b[39m into BigQuery. Please provide a GCS bucket through\u001b[39m\u001b[39m'\u001b[39m\n\u001b[1;32m    110\u001b[0m       \u001b[39m'\u001b[39m\u001b[39m custom_gcs_temp_location in the constructor of WriteToBigQuery\u001b[39m\u001b[39m'\u001b[39m\n\u001b[1;32m    111\u001b[0m       \u001b[39m'\u001b[39m\u001b[39m or the fallback option --temp_location, or pass\u001b[39m\u001b[39m'\u001b[39m\n\u001b[1;32m    112\u001b[0m       \u001b[39m'\u001b[39m\u001b[39m method=\u001b[39m\u001b[39m\"\u001b[39m\u001b[39mSTREAMING_INSERTS\u001b[39m\u001b[39m\"\u001b[39m\u001b[39m to WriteToBigQuery.\u001b[39m\u001b[39m'\u001b[39m \u001b[39m%\u001b[39m gcs_base)\n\u001b[1;32m    114\u001b[0m prefix_uuid \u001b[39m=\u001b[39m _bq_uuid()\n",
      "\u001b[0;31mValueError\u001b[0m: Invalid GCS location: None.\nWriting to BigQuery with FILE_LOADS method requires a GCS location to be provided to write files to be loaded into BigQuery. Please provide a GCS bucket through custom_gcs_temp_location in the constructor of WriteToBigQuery or the fallback option --temp_location, or pass method=\"STREAMING_INSERTS\" to WriteToBigQuery.",
      "\nDuring handling of the above exception, another exception occurred:\n",
      "\u001b[0;31mValueError\u001b[0m                                Traceback (most recent call last)",
      "\u001b[1;32m/home/dgg32/Documents/graph_bigquery/experiment.ipynb Cell 20\u001b[0m line \u001b[0;36m1\n\u001b[1;32m      <a href='vscode-notebook-cell:/home/dgg32/Documents/graph_bigquery/experiment.ipynb#X22sZmlsZQ%3D%3D?line=5'>6</a>\u001b[0m \u001b[39mprint\u001b[39m (full_path)\n\u001b[1;32m      <a href='vscode-notebook-cell:/home/dgg32/Documents/graph_bigquery/experiment.ipynb#X22sZmlsZQ%3D%3D?line=6'>7</a>\u001b[0m import_data \u001b[39m=\u001b[39m (\n\u001b[1;32m      <a href='vscode-notebook-cell:/home/dgg32/Documents/graph_bigquery/experiment.ipynb#X22sZmlsZQ%3D%3D?line=7'>8</a>\u001b[0m     p\n\u001b[1;32m      <a href='vscode-notebook-cell:/home/dgg32/Documents/graph_bigquery/experiment.ipynb#X22sZmlsZQ%3D%3D?line=8'>9</a>\u001b[0m     \u001b[39m|\u001b[39m \u001b[39mf\u001b[39m\u001b[39m'\u001b[39m\u001b[39mRead \u001b[39m\u001b[39m{\u001b[39;00mfull_path\u001b[39m}\u001b[39;00m\u001b[39m files\u001b[39m\u001b[39m'\u001b[39m \u001b[39m>>\u001b[39m beam\u001b[39m.\u001b[39mio\u001b[39m.\u001b[39mReadFromText(full_path)\n\u001b[0;32m   (...)\u001b[0m\n\u001b[1;32m     <a href='vscode-notebook-cell:/home/dgg32/Documents/graph_bigquery/experiment.ipynb#X22sZmlsZQ%3D%3D?line=15'>16</a>\u001b[0m             write_disposition\u001b[39m=\u001b[39mbeam\u001b[39m.\u001b[39mio\u001b[39m.\u001b[39mBigQueryDisposition\u001b[39m.\u001b[39mWRITE_APPEND)\n\u001b[1;32m     <a href='vscode-notebook-cell:/home/dgg32/Documents/graph_bigquery/experiment.ipynb#X22sZmlsZQ%3D%3D?line=16'>17</a>\u001b[0m )\n\u001b[0;32m---> <a href='vscode-notebook-cell:/home/dgg32/Documents/graph_bigquery/experiment.ipynb#X22sZmlsZQ%3D%3D?line=18'>19</a>\u001b[0m ret \u001b[39m=\u001b[39m p\u001b[39m.\u001b[39;49mrun()\n\u001b[1;32m     <a href='vscode-notebook-cell:/home/dgg32/Documents/graph_bigquery/experiment.ipynb#X22sZmlsZQ%3D%3D?line=19'>20</a>\u001b[0m \u001b[39mif\u001b[39;00m ret\u001b[39m.\u001b[39mstate \u001b[39m==\u001b[39m PipelineState\u001b[39m.\u001b[39mDONE:\n\u001b[1;32m     <a href='vscode-notebook-cell:/home/dgg32/Documents/graph_bigquery/experiment.ipynb#X22sZmlsZQ%3D%3D?line=20'>21</a>\u001b[0m     \u001b[39mprint\u001b[39m(\u001b[39m'\u001b[39m\u001b[39mSuccess!!!\u001b[39m\u001b[39m'\u001b[39m)\n",
      "File \u001b[0;32m~/anaconda3/envs/neo4j_bigquery/lib/python3.11/site-packages/apache_beam/pipeline.py:577\u001b[0m, in \u001b[0;36mPipeline.run\u001b[0;34m(self, test_runner_api)\u001b[0m\n\u001b[1;32m    575\u001b[0m     \u001b[39mfinally\u001b[39;00m:\n\u001b[1;32m    576\u001b[0m       shutil\u001b[39m.\u001b[39mrmtree(tmpdir)\n\u001b[0;32m--> 577\u001b[0m   \u001b[39mreturn\u001b[39;00m \u001b[39mself\u001b[39;49m\u001b[39m.\u001b[39;49mrunner\u001b[39m.\u001b[39;49mrun_pipeline(\u001b[39mself\u001b[39;49m, \u001b[39mself\u001b[39;49m\u001b[39m.\u001b[39;49m_options)\n\u001b[1;32m    578\u001b[0m \u001b[39mfinally\u001b[39;00m:\n\u001b[1;32m    579\u001b[0m   \u001b[39mif\u001b[39;00m \u001b[39mnot\u001b[39;00m is_in_ipython():\n",
      "File \u001b[0;32m~/anaconda3/envs/neo4j_bigquery/lib/python3.11/site-packages/apache_beam/runners/direct/direct_runner.py:128\u001b[0m, in \u001b[0;36mSwitchingDirectRunner.run_pipeline\u001b[0;34m(self, pipeline, options)\u001b[0m\n\u001b[1;32m    125\u001b[0m \u001b[39melse\u001b[39;00m:\n\u001b[1;32m    126\u001b[0m   runner \u001b[39m=\u001b[39m BundleBasedDirectRunner()\n\u001b[0;32m--> 128\u001b[0m \u001b[39mreturn\u001b[39;00m runner\u001b[39m.\u001b[39;49mrun_pipeline(pipeline, options)\n",
      "File \u001b[0;32m~/anaconda3/envs/neo4j_bigquery/lib/python3.11/site-packages/apache_beam/runners/portability/fn_api_runner/fn_runner.py:202\u001b[0m, in \u001b[0;36mFnApiRunner.run_pipeline\u001b[0;34m(self, pipeline, options)\u001b[0m\n\u001b[1;32m    191\u001b[0m   _LOGGER\u001b[39m.\u001b[39mwarning(\n\u001b[1;32m    192\u001b[0m       \u001b[39m'\u001b[39m\u001b[39mIf direct_num_workers is not equal to 1, direct_running_mode \u001b[39m\u001b[39m'\u001b[39m\n\u001b[1;32m    193\u001b[0m       \u001b[39m'\u001b[39m\u001b[39mshould be `multi_processing` or `multi_threading` instead of \u001b[39m\u001b[39m'\u001b[39m\n\u001b[0;32m   (...)\u001b[0m\n\u001b[1;32m    196\u001b[0m       \u001b[39mself\u001b[39m\u001b[39m.\u001b[39m_num_workers,\n\u001b[1;32m    197\u001b[0m       running_mode)\n\u001b[1;32m    199\u001b[0m \u001b[39mself\u001b[39m\u001b[39m.\u001b[39m_profiler_factory \u001b[39m=\u001b[39m Profile\u001b[39m.\u001b[39mfactory_from_options(\n\u001b[1;32m    200\u001b[0m     options\u001b[39m.\u001b[39mview_as(pipeline_options\u001b[39m.\u001b[39mProfilingOptions))\n\u001b[0;32m--> 202\u001b[0m \u001b[39mself\u001b[39m\u001b[39m.\u001b[39m_latest_run_result \u001b[39m=\u001b[39m \u001b[39mself\u001b[39;49m\u001b[39m.\u001b[39;49mrun_via_runner_api(\n\u001b[1;32m    203\u001b[0m     pipeline\u001b[39m.\u001b[39;49mto_runner_api(default_environment\u001b[39m=\u001b[39;49m\u001b[39mself\u001b[39;49m\u001b[39m.\u001b[39;49m_default_environment),\n\u001b[1;32m    204\u001b[0m     options)\n\u001b[1;32m    205\u001b[0m \u001b[39mreturn\u001b[39;00m \u001b[39mself\u001b[39m\u001b[39m.\u001b[39m_latest_run_result\n",
      "File \u001b[0;32m~/anaconda3/envs/neo4j_bigquery/lib/python3.11/site-packages/apache_beam/runners/portability/fn_api_runner/fn_runner.py:224\u001b[0m, in \u001b[0;36mFnApiRunner.run_via_runner_api\u001b[0;34m(self, pipeline_proto, options)\u001b[0m\n\u001b[1;32m    222\u001b[0m   pipeline_proto \u001b[39m=\u001b[39m \u001b[39mself\u001b[39m\u001b[39m.\u001b[39membed_default_docker_image(pipeline_proto)\n\u001b[1;32m    223\u001b[0m stage_context, stages \u001b[39m=\u001b[39m \u001b[39mself\u001b[39m\u001b[39m.\u001b[39mcreate_stages(pipeline_proto)\n\u001b[0;32m--> 224\u001b[0m \u001b[39mreturn\u001b[39;00m \u001b[39mself\u001b[39;49m\u001b[39m.\u001b[39;49mrun_stages(stage_context, stages)\n",
      "File \u001b[0;32m~/anaconda3/envs/neo4j_bigquery/lib/python3.11/site-packages/apache_beam/runners/portability/fn_api_runner/fn_runner.py:455\u001b[0m, in \u001b[0;36mFnApiRunner.run_stages\u001b[0;34m(self, stage_context, stages)\u001b[0m\n\u001b[1;32m    452\u001b[0m \u001b[39massert\u001b[39;00m consuming_stage_name \u001b[39m==\u001b[39m bundle_context_manager\u001b[39m.\u001b[39mstage\u001b[39m.\u001b[39mname\n\u001b[1;32m    454\u001b[0m bundle_counter \u001b[39m+\u001b[39m\u001b[39m=\u001b[39m \u001b[39m1\u001b[39m\n\u001b[0;32m--> 455\u001b[0m bundle_results \u001b[39m=\u001b[39m \u001b[39mself\u001b[39;49m\u001b[39m.\u001b[39;49m_execute_bundle(\n\u001b[1;32m    456\u001b[0m     runner_execution_context, bundle_context_manager, bundle_input)\n\u001b[1;32m    458\u001b[0m \u001b[39mif\u001b[39;00m consuming_stage_name \u001b[39min\u001b[39;00m monitoring_infos_by_stage:\n\u001b[1;32m    459\u001b[0m   monitoring_infos_by_stage[\n\u001b[1;32m    460\u001b[0m       consuming_stage_name] \u001b[39m=\u001b[39m consolidate_monitoring_infos(\n\u001b[1;32m    461\u001b[0m           itertools\u001b[39m.\u001b[39mchain(\n\u001b[1;32m    462\u001b[0m               bundle_results\u001b[39m.\u001b[39mprocess_bundle\u001b[39m.\u001b[39mmonitoring_infos,\n\u001b[1;32m    463\u001b[0m               monitoring_infos_by_stage[consuming_stage_name]))\n",
      "File \u001b[0;32m~/anaconda3/envs/neo4j_bigquery/lib/python3.11/site-packages/apache_beam/runners/portability/fn_api_runner/fn_runner.py:783\u001b[0m, in \u001b[0;36mFnApiRunner._execute_bundle\u001b[0;34m(self, runner_execution_context, bundle_context_manager, bundle_input)\u001b[0m\n\u001b[1;32m    778\u001b[0m \u001b[39m# We create the bundle manager here, as it can be reused for bundles of\u001b[39;00m\n\u001b[1;32m    779\u001b[0m \u001b[39m# the same stage, but it may have to be created by-bundle later on.\u001b[39;00m\n\u001b[1;32m    780\u001b[0m bundle_manager \u001b[39m=\u001b[39m \u001b[39mself\u001b[39m\u001b[39m.\u001b[39m_get_bundle_manager(bundle_context_manager)\n\u001b[1;32m    782\u001b[0m last_result, deferred_inputs, newly_set_timers, watermark_updates \u001b[39m=\u001b[39m (\n\u001b[0;32m--> 783\u001b[0m     \u001b[39mself\u001b[39;49m\u001b[39m.\u001b[39;49m_run_bundle(\n\u001b[1;32m    784\u001b[0m         runner_execution_context,\n\u001b[1;32m    785\u001b[0m         bundle_context_manager,\n\u001b[1;32m    786\u001b[0m         bundle_input,\n\u001b[1;32m    787\u001b[0m         bundle_context_manager\u001b[39m.\u001b[39;49mstage_data_outputs,\n\u001b[1;32m    788\u001b[0m         bundle_context_manager\u001b[39m.\u001b[39;49mstage_timer_outputs,\n\u001b[1;32m    789\u001b[0m         bundle_manager))\n\u001b[1;32m    791\u001b[0m \u001b[39mfor\u001b[39;00m pc_name, watermark \u001b[39min\u001b[39;00m watermark_updates\u001b[39m.\u001b[39mitems():\n\u001b[1;32m    792\u001b[0m   _BUNDLE_LOGGER\u001b[39m.\u001b[39mdebug(\u001b[39m'\u001b[39m\u001b[39mUpdate: \u001b[39m\u001b[39m%s\u001b[39;00m\u001b[39m \u001b[39m\u001b[39m%s\u001b[39;00m\u001b[39m'\u001b[39m, pc_name, watermark)\n",
      "File \u001b[0;32m~/anaconda3/envs/neo4j_bigquery/lib/python3.11/site-packages/apache_beam/runners/portability/fn_api_runner/fn_runner.py:1020\u001b[0m, in \u001b[0;36mFnApiRunner._run_bundle\u001b[0;34m(self, runner_execution_context, bundle_context_manager, bundle_input, data_output, expected_timer_output, bundle_manager)\u001b[0m\n\u001b[1;32m   1011\u001b[0m input_timers \u001b[39m=\u001b[39m bundle_input\u001b[39m.\u001b[39mtimers\n\u001b[1;32m   1012\u001b[0m \u001b[39mself\u001b[39m\u001b[39m.\u001b[39m_run_bundle_multiple_times_for_testing(\n\u001b[1;32m   1013\u001b[0m     runner_execution_context,\n\u001b[1;32m   1014\u001b[0m     bundle_manager,\n\u001b[0;32m   (...)\u001b[0m\n\u001b[1;32m   1017\u001b[0m     input_timers,\n\u001b[1;32m   1018\u001b[0m     expected_timer_output)\n\u001b[0;32m-> 1020\u001b[0m result, splits \u001b[39m=\u001b[39m bundle_manager\u001b[39m.\u001b[39;49mprocess_bundle(\n\u001b[1;32m   1021\u001b[0m     data_input, data_output, input_timers, expected_timer_output)\n\u001b[1;32m   1022\u001b[0m \u001b[39m# Now we collect all the deferred inputs remaining from bundle execution.\u001b[39;00m\n\u001b[1;32m   1023\u001b[0m \u001b[39m# Deferred inputs can be:\u001b[39;00m\n\u001b[1;32m   1024\u001b[0m \u001b[39m# - timers\u001b[39;00m\n\u001b[1;32m   1025\u001b[0m \u001b[39m# - SDK-initiated deferred applications of root elements\u001b[39;00m\n\u001b[1;32m   1026\u001b[0m \u001b[39m# - Runner-initiated deferred applications of root elements\u001b[39;00m\n\u001b[1;32m   1027\u001b[0m deferred_inputs \u001b[39m=\u001b[39m {}  \u001b[39m# type: Dict[str, execution.PartitionableBuffer]\u001b[39;00m\n",
      "File \u001b[0;32m~/anaconda3/envs/neo4j_bigquery/lib/python3.11/site-packages/apache_beam/runners/portability/fn_api_runner/fn_runner.py:1356\u001b[0m, in \u001b[0;36mBundleManager.process_bundle\u001b[0;34m(self, inputs, expected_outputs, fired_timers, expected_output_timers, dry_run)\u001b[0m\n\u001b[1;32m   1349\u001b[0m \u001b[39m# Actually start the bundle.\u001b[39;00m\n\u001b[1;32m   1350\u001b[0m process_bundle_req \u001b[39m=\u001b[39m beam_fn_api_pb2\u001b[39m.\u001b[39mInstructionRequest(\n\u001b[1;32m   1351\u001b[0m     instruction_id\u001b[39m=\u001b[39mprocess_bundle_id,\n\u001b[1;32m   1352\u001b[0m     process_bundle\u001b[39m=\u001b[39mbeam_fn_api_pb2\u001b[39m.\u001b[39mProcessBundleRequest(\n\u001b[1;32m   1353\u001b[0m         process_bundle_descriptor_id\u001b[39m=\u001b[39m\u001b[39mself\u001b[39m\u001b[39m.\u001b[39mbundle_context_manager\u001b[39m.\u001b[39m\n\u001b[1;32m   1354\u001b[0m         process_bundle_descriptor\u001b[39m.\u001b[39mid,\n\u001b[1;32m   1355\u001b[0m         cache_tokens\u001b[39m=\u001b[39m[\u001b[39mnext\u001b[39m(\u001b[39mself\u001b[39m\u001b[39m.\u001b[39m_cache_token_generator)]))\n\u001b[0;32m-> 1356\u001b[0m result_future \u001b[39m=\u001b[39m \u001b[39mself\u001b[39;49m\u001b[39m.\u001b[39;49m_worker_handler\u001b[39m.\u001b[39;49mcontrol_conn\u001b[39m.\u001b[39;49mpush(process_bundle_req)\n\u001b[1;32m   1358\u001b[0m split_results \u001b[39m=\u001b[39m []  \u001b[39m# type: List[beam_fn_api_pb2.ProcessBundleSplitResponse]\u001b[39;00m\n\u001b[1;32m   1359\u001b[0m \u001b[39mwith\u001b[39;00m ProgressRequester(\u001b[39mself\u001b[39m\u001b[39m.\u001b[39m_worker_handler,\n\u001b[1;32m   1360\u001b[0m                        process_bundle_id,\n\u001b[1;32m   1361\u001b[0m                        \u001b[39mself\u001b[39m\u001b[39m.\u001b[39m_progress_frequency):\n",
      "File \u001b[0;32m~/anaconda3/envs/neo4j_bigquery/lib/python3.11/site-packages/apache_beam/runners/portability/fn_api_runner/worker_handlers.py:379\u001b[0m, in \u001b[0;36mEmbeddedWorkerHandler.push\u001b[0;34m(self, request)\u001b[0m\n\u001b[1;32m    377\u001b[0m   \u001b[39mself\u001b[39m\u001b[39m.\u001b[39m_uid_counter \u001b[39m+\u001b[39m\u001b[39m=\u001b[39m \u001b[39m1\u001b[39m\n\u001b[1;32m    378\u001b[0m   request\u001b[39m.\u001b[39minstruction_id \u001b[39m=\u001b[39m \u001b[39m'\u001b[39m\u001b[39mcontrol_\u001b[39m\u001b[39m%s\u001b[39;00m\u001b[39m'\u001b[39m \u001b[39m%\u001b[39m \u001b[39mself\u001b[39m\u001b[39m.\u001b[39m_uid_counter\n\u001b[0;32m--> 379\u001b[0m response \u001b[39m=\u001b[39m \u001b[39mself\u001b[39;49m\u001b[39m.\u001b[39;49mworker\u001b[39m.\u001b[39;49mdo_instruction(request)\n\u001b[1;32m    380\u001b[0m \u001b[39mreturn\u001b[39;00m ControlFuture(request\u001b[39m.\u001b[39minstruction_id, response)\n",
      "File \u001b[0;32m~/anaconda3/envs/neo4j_bigquery/lib/python3.11/site-packages/apache_beam/runners/worker/sdk_worker.py:625\u001b[0m, in \u001b[0;36mSdkWorker.do_instruction\u001b[0;34m(self, request)\u001b[0m\n\u001b[1;32m    622\u001b[0m request_type \u001b[39m=\u001b[39m request\u001b[39m.\u001b[39mWhichOneof(\u001b[39m'\u001b[39m\u001b[39mrequest\u001b[39m\u001b[39m'\u001b[39m)\n\u001b[1;32m    623\u001b[0m \u001b[39mif\u001b[39;00m request_type:\n\u001b[1;32m    624\u001b[0m   \u001b[39m# E.g. if register is set, this will call self.register(request.register))\u001b[39;00m\n\u001b[0;32m--> 625\u001b[0m   \u001b[39mreturn\u001b[39;00m \u001b[39mgetattr\u001b[39;49m(\u001b[39mself\u001b[39;49m, request_type)(\n\u001b[1;32m    626\u001b[0m       \u001b[39mgetattr\u001b[39;49m(request, request_type), request\u001b[39m.\u001b[39;49minstruction_id)\n\u001b[1;32m    627\u001b[0m \u001b[39melse\u001b[39;00m:\n\u001b[1;32m    628\u001b[0m   \u001b[39mraise\u001b[39;00m \u001b[39mNotImplementedError\u001b[39;00m\n",
      "File \u001b[0;32m~/anaconda3/envs/neo4j_bigquery/lib/python3.11/site-packages/apache_beam/runners/worker/sdk_worker.py:663\u001b[0m, in \u001b[0;36mSdkWorker.process_bundle\u001b[0;34m(self, request, instruction_id)\u001b[0m\n\u001b[1;32m    659\u001b[0m \u001b[39mwith\u001b[39;00m bundle_processor\u001b[39m.\u001b[39mstate_handler\u001b[39m.\u001b[39mprocess_instruction_id(\n\u001b[1;32m    660\u001b[0m     instruction_id, request\u001b[39m.\u001b[39mcache_tokens):\n\u001b[1;32m    661\u001b[0m   \u001b[39mwith\u001b[39;00m \u001b[39mself\u001b[39m\u001b[39m.\u001b[39mmaybe_profile(instruction_id):\n\u001b[1;32m    662\u001b[0m     delayed_applications, requests_finalization \u001b[39m=\u001b[39m (\n\u001b[0;32m--> 663\u001b[0m         bundle_processor\u001b[39m.\u001b[39;49mprocess_bundle(instruction_id))\n\u001b[1;32m    664\u001b[0m     monitoring_infos \u001b[39m=\u001b[39m bundle_processor\u001b[39m.\u001b[39mmonitoring_infos()\n\u001b[1;32m    665\u001b[0m     response \u001b[39m=\u001b[39m beam_fn_api_pb2\u001b[39m.\u001b[39mInstructionResponse(\n\u001b[1;32m    666\u001b[0m         instruction_id\u001b[39m=\u001b[39minstruction_id,\n\u001b[1;32m    667\u001b[0m         process_bundle\u001b[39m=\u001b[39mbeam_fn_api_pb2\u001b[39m.\u001b[39mProcessBundleResponse(\n\u001b[0;32m   (...)\u001b[0m\n\u001b[1;32m    673\u001b[0m             },\n\u001b[1;32m    674\u001b[0m             requires_finalization\u001b[39m=\u001b[39mrequests_finalization))\n",
      "File \u001b[0;32m~/anaconda3/envs/neo4j_bigquery/lib/python3.11/site-packages/apache_beam/runners/worker/bundle_processor.py:1051\u001b[0m, in \u001b[0;36mBundleProcessor.process_bundle\u001b[0;34m(self, instruction_id)\u001b[0m\n\u001b[1;32m   1048\u001b[0m         \u001b[39mself\u001b[39m\u001b[39m.\u001b[39mops[element\u001b[39m.\u001b[39mtransform_id]\u001b[39m.\u001b[39mprocess_timer(\n\u001b[1;32m   1049\u001b[0m             element\u001b[39m.\u001b[39mtimer_family_id, timer_data)\n\u001b[1;32m   1050\u001b[0m     \u001b[39melif\u001b[39;00m \u001b[39misinstance\u001b[39m(element, beam_fn_api_pb2\u001b[39m.\u001b[39mElements\u001b[39m.\u001b[39mData):\n\u001b[0;32m-> 1051\u001b[0m       input_op_by_transform_id[element\u001b[39m.\u001b[39;49mtransform_id]\u001b[39m.\u001b[39;49mprocess_encoded(\n\u001b[1;32m   1052\u001b[0m           element\u001b[39m.\u001b[39;49mdata)\n\u001b[1;32m   1054\u001b[0m \u001b[39m# Finish all operations.\u001b[39;00m\n\u001b[1;32m   1055\u001b[0m \u001b[39mfor\u001b[39;00m op \u001b[39min\u001b[39;00m \u001b[39mself\u001b[39m\u001b[39m.\u001b[39mops\u001b[39m.\u001b[39mvalues():\n",
      "File \u001b[0;32m~/anaconda3/envs/neo4j_bigquery/lib/python3.11/site-packages/apache_beam/runners/worker/bundle_processor.py:232\u001b[0m, in \u001b[0;36mDataInputOperation.process_encoded\u001b[0;34m(self, encoded_windowed_values)\u001b[0m\n\u001b[1;32m    229\u001b[0m   \u001b[39mself\u001b[39m\u001b[39m.\u001b[39mindex \u001b[39m+\u001b[39m\u001b[39m=\u001b[39m \u001b[39m1\u001b[39m\n\u001b[1;32m    230\u001b[0m decoded_value \u001b[39m=\u001b[39m \u001b[39mself\u001b[39m\u001b[39m.\u001b[39mwindowed_coder_impl\u001b[39m.\u001b[39mdecode_from_stream(\n\u001b[1;32m    231\u001b[0m     input_stream, \u001b[39mTrue\u001b[39;00m)\n\u001b[0;32m--> 232\u001b[0m \u001b[39mself\u001b[39;49m\u001b[39m.\u001b[39;49moutput(decoded_value)\n",
      "File \u001b[0;32m~/anaconda3/envs/neo4j_bigquery/lib/python3.11/site-packages/apache_beam/runners/worker/operations.py:570\u001b[0m, in \u001b[0;36mapache_beam.runners.worker.operations.Operation.output\u001b[0;34m()\u001b[0m\n",
      "File \u001b[0;32m~/anaconda3/envs/neo4j_bigquery/lib/python3.11/site-packages/apache_beam/runners/worker/operations.py:572\u001b[0m, in \u001b[0;36mapache_beam.runners.worker.operations.Operation.output\u001b[0;34m()\u001b[0m\n",
      "File \u001b[0;32m~/anaconda3/envs/neo4j_bigquery/lib/python3.11/site-packages/apache_beam/runners/worker/operations.py:263\u001b[0m, in \u001b[0;36mapache_beam.runners.worker.operations.SingletonElementConsumerSet.receive\u001b[0;34m()\u001b[0m\n",
      "File \u001b[0;32m~/anaconda3/envs/neo4j_bigquery/lib/python3.11/site-packages/apache_beam/runners/worker/operations.py:266\u001b[0m, in \u001b[0;36mapache_beam.runners.worker.operations.SingletonElementConsumerSet.receive\u001b[0;34m()\u001b[0m\n",
      "File \u001b[0;32m~/anaconda3/envs/neo4j_bigquery/lib/python3.11/site-packages/apache_beam/runners/worker/operations.py:953\u001b[0m, in \u001b[0;36mapache_beam.runners.worker.operations.DoOperation.process\u001b[0;34m()\u001b[0m\n",
      "File \u001b[0;32m~/anaconda3/envs/neo4j_bigquery/lib/python3.11/site-packages/apache_beam/runners/worker/operations.py:954\u001b[0m, in \u001b[0;36mapache_beam.runners.worker.operations.DoOperation.process\u001b[0;34m()\u001b[0m\n",
      "File \u001b[0;32m~/anaconda3/envs/neo4j_bigquery/lib/python3.11/site-packages/apache_beam/runners/common.py:1436\u001b[0m, in \u001b[0;36mapache_beam.runners.common.DoFnRunner.process\u001b[0;34m()\u001b[0m\n",
      "File \u001b[0;32m~/anaconda3/envs/neo4j_bigquery/lib/python3.11/site-packages/apache_beam/runners/common.py:1524\u001b[0m, in \u001b[0;36mapache_beam.runners.common.DoFnRunner._reraise_augmented\u001b[0;34m()\u001b[0m\n",
      "File \u001b[0;32m~/anaconda3/envs/neo4j_bigquery/lib/python3.11/site-packages/apache_beam/runners/common.py:1434\u001b[0m, in \u001b[0;36mapache_beam.runners.common.DoFnRunner.process\u001b[0;34m()\u001b[0m\n",
      "File \u001b[0;32m~/anaconda3/envs/neo4j_bigquery/lib/python3.11/site-packages/apache_beam/runners/common.py:636\u001b[0m, in \u001b[0;36mapache_beam.runners.common.SimpleInvoker.invoke_process\u001b[0;34m()\u001b[0m\n",
      "File \u001b[0;32m~/anaconda3/envs/neo4j_bigquery/lib/python3.11/site-packages/apache_beam/runners/common.py:1619\u001b[0m, in \u001b[0;36mapache_beam.runners.common._OutputHandler.handle_process_outputs\u001b[0;34m()\u001b[0m\n",
      "File \u001b[0;32m~/anaconda3/envs/neo4j_bigquery/lib/python3.11/site-packages/apache_beam/runners/common.py:1732\u001b[0m, in \u001b[0;36mapache_beam.runners.common._OutputHandler._write_value_to_tag\u001b[0;34m()\u001b[0m\n",
      "File \u001b[0;32m~/anaconda3/envs/neo4j_bigquery/lib/python3.11/site-packages/apache_beam/runners/worker/operations.py:266\u001b[0m, in \u001b[0;36mapache_beam.runners.worker.operations.SingletonElementConsumerSet.receive\u001b[0;34m()\u001b[0m\n",
      "File \u001b[0;32m~/anaconda3/envs/neo4j_bigquery/lib/python3.11/site-packages/apache_beam/runners/worker/operations.py:953\u001b[0m, in \u001b[0;36mapache_beam.runners.worker.operations.DoOperation.process\u001b[0;34m()\u001b[0m\n",
      "File \u001b[0;32m~/anaconda3/envs/neo4j_bigquery/lib/python3.11/site-packages/apache_beam/runners/worker/operations.py:954\u001b[0m, in \u001b[0;36mapache_beam.runners.worker.operations.DoOperation.process\u001b[0;34m()\u001b[0m\n",
      "File \u001b[0;32m~/anaconda3/envs/neo4j_bigquery/lib/python3.11/site-packages/apache_beam/runners/common.py:1436\u001b[0m, in \u001b[0;36mapache_beam.runners.common.DoFnRunner.process\u001b[0;34m()\u001b[0m\n",
      "File \u001b[0;32m~/anaconda3/envs/neo4j_bigquery/lib/python3.11/site-packages/apache_beam/runners/common.py:1524\u001b[0m, in \u001b[0;36mapache_beam.runners.common.DoFnRunner._reraise_augmented\u001b[0;34m()\u001b[0m\n",
      "File \u001b[0;32m~/anaconda3/envs/neo4j_bigquery/lib/python3.11/site-packages/apache_beam/runners/common.py:1434\u001b[0m, in \u001b[0;36mapache_beam.runners.common.DoFnRunner.process\u001b[0;34m()\u001b[0m\n",
      "File \u001b[0;32m~/anaconda3/envs/neo4j_bigquery/lib/python3.11/site-packages/apache_beam/runners/common.py:636\u001b[0m, in \u001b[0;36mapache_beam.runners.common.SimpleInvoker.invoke_process\u001b[0;34m()\u001b[0m\n",
      "File \u001b[0;32m~/anaconda3/envs/neo4j_bigquery/lib/python3.11/site-packages/apache_beam/runners/common.py:1619\u001b[0m, in \u001b[0;36mapache_beam.runners.common._OutputHandler.handle_process_outputs\u001b[0;34m()\u001b[0m\n",
      "File \u001b[0;32m~/anaconda3/envs/neo4j_bigquery/lib/python3.11/site-packages/apache_beam/runners/common.py:1732\u001b[0m, in \u001b[0;36mapache_beam.runners.common._OutputHandler._write_value_to_tag\u001b[0;34m()\u001b[0m\n",
      "File \u001b[0;32m~/anaconda3/envs/neo4j_bigquery/lib/python3.11/site-packages/apache_beam/runners/worker/operations.py:352\u001b[0m, in \u001b[0;36mapache_beam.runners.worker.operations.GeneralPurposeConsumerSet.receive\u001b[0;34m()\u001b[0m\n",
      "File \u001b[0;32m~/anaconda3/envs/neo4j_bigquery/lib/python3.11/site-packages/apache_beam/runners/worker/operations.py:951\u001b[0m, in \u001b[0;36mapache_beam.runners.worker.operations.DoOperation.process\u001b[0;34m()\u001b[0m\n",
      "File \u001b[0;32m~/anaconda3/envs/neo4j_bigquery/lib/python3.11/site-packages/apache_beam/runners/worker/operations.py:953\u001b[0m, in \u001b[0;36mapache_beam.runners.worker.operations.DoOperation.process\u001b[0;34m()\u001b[0m\n",
      "File \u001b[0;32m~/anaconda3/envs/neo4j_bigquery/lib/python3.11/site-packages/apache_beam/runners/worker/operations.py:954\u001b[0m, in \u001b[0;36mapache_beam.runners.worker.operations.DoOperation.process\u001b[0;34m()\u001b[0m\n",
      "File \u001b[0;32m~/anaconda3/envs/neo4j_bigquery/lib/python3.11/site-packages/apache_beam/runners/common.py:1436\u001b[0m, in \u001b[0;36mapache_beam.runners.common.DoFnRunner.process\u001b[0;34m()\u001b[0m\n",
      "File \u001b[0;32m~/anaconda3/envs/neo4j_bigquery/lib/python3.11/site-packages/apache_beam/runners/common.py:1545\u001b[0m, in \u001b[0;36mapache_beam.runners.common.DoFnRunner._reraise_augmented\u001b[0;34m()\u001b[0m\n",
      "File \u001b[0;32m~/anaconda3/envs/neo4j_bigquery/lib/python3.11/site-packages/apache_beam/runners/common.py:1434\u001b[0m, in \u001b[0;36mapache_beam.runners.common.DoFnRunner.process\u001b[0;34m()\u001b[0m\n",
      "File \u001b[0;32m~/anaconda3/envs/neo4j_bigquery/lib/python3.11/site-packages/apache_beam/runners/common.py:637\u001b[0m, in \u001b[0;36mapache_beam.runners.common.SimpleInvoker.invoke_process\u001b[0;34m()\u001b[0m\n",
      "File \u001b[0;32m~/anaconda3/envs/neo4j_bigquery/lib/python3.11/site-packages/apache_beam/transforms/core.py:1963\u001b[0m, in \u001b[0;36mMap.<locals>.<lambda>\u001b[0;34m(x)\u001b[0m\n\u001b[1;32m   1961\u001b[0m   wrapper \u001b[39m=\u001b[39m \u001b[39mlambda\u001b[39;00m x, \u001b[39m*\u001b[39margs, \u001b[39m*\u001b[39m\u001b[39m*\u001b[39mkwargs: [fn(x, \u001b[39m*\u001b[39margs, \u001b[39m*\u001b[39m\u001b[39m*\u001b[39mkwargs)]\n\u001b[1;32m   1962\u001b[0m \u001b[39melse\u001b[39;00m:\n\u001b[0;32m-> 1963\u001b[0m   wrapper \u001b[39m=\u001b[39m \u001b[39mlambda\u001b[39;00m x: [fn(x)]\n\u001b[1;32m   1965\u001b[0m label \u001b[39m=\u001b[39m \u001b[39m'\u001b[39m\u001b[39mMap(\u001b[39m\u001b[39m%s\u001b[39;00m\u001b[39m)\u001b[39m\u001b[39m'\u001b[39m \u001b[39m%\u001b[39m ptransform\u001b[39m.\u001b[39mlabel_from_callable(fn)\n\u001b[1;32m   1967\u001b[0m \u001b[39m# TODO. What about callable classes?\u001b[39;00m\n",
      "File \u001b[0;32m~/anaconda3/envs/neo4j_bigquery/lib/python3.11/site-packages/apache_beam/io/gcp/bigquery_file_loads.py:105\u001b[0m, in \u001b[0;36mfile_prefix_generator.<locals>._generate_file_prefix\u001b[0;34m(unused_elm)\u001b[0m\n\u001b[1;32m    101\u001b[0m \u001b[39m# This will fail at pipeline execution time, but will fail early, as this\u001b[39;00m\n\u001b[1;32m    102\u001b[0m \u001b[39m# step doesn't have any dependencies (and thus will be one of the first\u001b[39;00m\n\u001b[1;32m    103\u001b[0m \u001b[39m# stages to be run).\u001b[39;00m\n\u001b[1;32m    104\u001b[0m \u001b[39mif\u001b[39;00m with_validation \u001b[39mand\u001b[39;00m (\u001b[39mnot\u001b[39;00m gcs_base \u001b[39mor\u001b[39;00m \u001b[39mnot\u001b[39;00m gcs_base\u001b[39m.\u001b[39mstartswith(\u001b[39m'\u001b[39m\u001b[39mgs://\u001b[39m\u001b[39m'\u001b[39m)):\n\u001b[0;32m--> 105\u001b[0m   \u001b[39mraise\u001b[39;00m \u001b[39mValueError\u001b[39;00m(\n\u001b[1;32m    106\u001b[0m       \u001b[39m'\u001b[39m\u001b[39mInvalid GCS location: \u001b[39m\u001b[39m%r\u001b[39;00m\u001b[39m.\u001b[39m\u001b[39m\\n\u001b[39;00m\u001b[39m'\u001b[39m\n\u001b[1;32m    107\u001b[0m       \u001b[39m'\u001b[39m\u001b[39mWriting to BigQuery with FILE_LOADS method requires a\u001b[39m\u001b[39m'\u001b[39m\n\u001b[1;32m    108\u001b[0m       \u001b[39m'\u001b[39m\u001b[39m GCS location to be provided to write files to be loaded\u001b[39m\u001b[39m'\u001b[39m\n\u001b[1;32m    109\u001b[0m       \u001b[39m'\u001b[39m\u001b[39m into BigQuery. Please provide a GCS bucket through\u001b[39m\u001b[39m'\u001b[39m\n\u001b[1;32m    110\u001b[0m       \u001b[39m'\u001b[39m\u001b[39m custom_gcs_temp_location in the constructor of WriteToBigQuery\u001b[39m\u001b[39m'\u001b[39m\n\u001b[1;32m    111\u001b[0m       \u001b[39m'\u001b[39m\u001b[39m or the fallback option --temp_location, or pass\u001b[39m\u001b[39m'\u001b[39m\n\u001b[1;32m    112\u001b[0m       \u001b[39m'\u001b[39m\u001b[39m method=\u001b[39m\u001b[39m\"\u001b[39m\u001b[39mSTREAMING_INSERTS\u001b[39m\u001b[39m\"\u001b[39m\u001b[39m to WriteToBigQuery.\u001b[39m\u001b[39m'\u001b[39m \u001b[39m%\u001b[39m gcs_base)\n\u001b[1;32m    114\u001b[0m prefix_uuid \u001b[39m=\u001b[39m _bq_uuid()\n\u001b[1;32m    115\u001b[0m \u001b[39mreturn\u001b[39;00m fs\u001b[39m.\u001b[39mFileSystems\u001b[39m.\u001b[39mjoin(gcs_base, \u001b[39m'\u001b[39m\u001b[39mbq_load\u001b[39m\u001b[39m'\u001b[39m, prefix_uuid)\n",
      "\u001b[0;31mValueError\u001b[0m: Invalid GCS location: None.\nWriting to BigQuery with FILE_LOADS method requires a GCS location to be provided to write files to be loaded into BigQuery. Please provide a GCS bucket through custom_gcs_temp_location in the constructor of WriteToBigQuery or the fallback option --temp_location, or pass method=\"STREAMING_INSERTS\" to WriteToBigQuery. [while running '[60]: Write to Category.tsv output table/BigQueryBatchFileLoads/GenerateFilePrefix']"
     ]
    }
   ],
   "source": [
    "\n",
    "for f in bucket.list_blobs(prefix='tsv'):\n",
    "    \n",
    "    full_path = f\"gs://{bucket_name}/{f.name}\"\n",
    "\n",
    "    filename = f.name.split(\"/\")[1]\n",
    "    print (full_path)\n",
    "    import_data = (\n",
    "        p\n",
    "        | f'Read {full_path} files' >> beam.io.ReadFromText(full_path)\n",
    "        | f'Write to {filename} output table' >> beam.io.WriteToBigQuery(\n",
    "                ignore_unknown_columns=True,\n",
    "                project=PARAM['gcp_project_name'],\n",
    "                dataset=PARAM['bigquery_dataset'],\n",
    "                table=filename.replace(\".tsv\", \"\"),\n",
    "                create_disposition=beam.io.BigQueryDisposition.CREATE_NEVER,\n",
    "                write_disposition=beam.io.BigQueryDisposition.WRITE_APPEND)\n",
    "    )\n",
    "\n",
    "    ret = p.run()\n",
    "    if ret.state == PipelineState.DONE:\n",
    "        print('Success!!!')\n",
    "    else:\n",
    "        print('Error Running beam pipeline')"
   ]
  },
  {
   "cell_type": "code",
   "execution_count": null,
   "metadata": {},
   "outputs": [],
   "source": [
    "\n"
   ]
  }
 ],
 "metadata": {
  "kernelspec": {
   "display_name": "neo4j_bigquery",
   "language": "python",
   "name": "python3"
  },
  "language_info": {
   "codemirror_mode": {
    "name": "ipython",
    "version": 3
   },
   "file_extension": ".py",
   "mimetype": "text/x-python",
   "name": "python",
   "nbconvert_exporter": "python",
   "pygments_lexer": "ipython3",
   "version": "3.11.5"
  }
 },
 "nbformat": 4,
 "nbformat_minor": 2
}
